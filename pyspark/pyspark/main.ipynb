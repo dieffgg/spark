{
 "cells": [
  {
   "cell_type": "code",
   "execution_count": 2,
   "metadata": {},
   "outputs": [
    {
     "name": "stdout",
     "output_type": "stream",
     "text": [
      "Collecting spark\n",
      "  Downloading spark-0.2.1.tar.gz (41 kB)\n",
      "\u001b[K     |████████████████████████████████| 41 kB 109 kB/s eta 0:00:01\n",
      "\u001b[?25hBuilding wheels for collected packages: spark\n",
      "  Building wheel for spark (setup.py) ... \u001b[?25ldone\n",
      "\u001b[?25h  Created wheel for spark: filename=spark-0.2.1-py3-none-any.whl size=58738 sha256=ee04302aad86dd6ebfb349a0b5d3aedd04c39583ed800d3235281b4a3fa55358\n",
      "  Stored in directory: /home/jovyan/.cache/pip/wheels/4e/0e/f1/164619f9920fb447d294afaae11a7715bd442ded7225953d72\n",
      "Successfully built spark\n",
      "Installing collected packages: spark\n",
      "Successfully installed spark-0.2.1\n"
     ]
    }
   ],
   "source": [
    "!pip install spark"
   ]
  },
  {
   "cell_type": "code",
   "execution_count": 4,
   "metadata": {},
   "outputs": [],
   "source": [
    "from pyspark.sql import SparkSession"
   ]
  },
  {
   "cell_type": "code",
   "execution_count": 5,
   "metadata": {},
   "outputs": [],
   "source": [
    "spark = SparkSession.builder \\\n",
    "            .master(\"local[8]\") \\\n",
    "            .appName(\"airflow_app\") \\\n",
    "            .config('spark.executor.memory', '16g') \\\n",
    "            .config('spark.driver.memory', '16g') \\\n",
    "            .config('spark.sql.execution.pandas.respectSessionTimeZone', False) \\\n",
    "            .config(\"spark.driver.maxResultSize\", \"2048MB\") \\\n",
    "            .config(\"spark.port.maxRetries\", \"100\") \\\n",
    "            .config(\"spark.sql.execution.arrow.enabled\", \"true\") \\\n",
    "            .getOrCreate()\n"
   ]
  },
  {
   "cell_type": "code",
   "execution_count": 6,
   "metadata": {},
   "outputs": [],
   "source": [
    "from pyspark.sql.functions import *"
   ]
  },
  {
   "cell_type": "code",
   "execution_count": 9,
   "metadata": {},
   "outputs": [],
   "source": [
    "df = spark.read.csv('dados/diego.csv')"
   ]
  },
  {
   "cell_type": "code",
   "execution_count": 10,
   "metadata": {},
   "outputs": [
    {
     "name": "stdout",
     "output_type": "stream",
     "text": [
      "+--------------------+\n",
      "|                 _c0|\n",
      "+--------------------+\n",
      "|Coluna1;Coluna2;C...|\n",
      "|diego ;brook ;not...|\n",
      "|gabriela;brook ;i...|\n",
      "|ana;dudu;caderno ...|\n",
      "+--------------------+\n",
      "\n"
     ]
    }
   ],
   "source": [
    "df.show()"
   ]
  },
  {
   "cell_type": "code",
   "execution_count": 43,
   "metadata": {},
   "outputs": [],
   "source": [
    "tabela1 = spark.read.format('csv').option('sep', '|').load('dados/tabela1.csv')"
   ]
  },
  {
   "cell_type": "code",
   "execution_count": 44,
   "metadata": {},
   "outputs": [
    {
     "name": "stdout",
     "output_type": "stream",
     "text": [
      "+----+-------+-------+-----+----+\n",
      "| _c0|    _c1|    _c2|  _c3| _c4|\n",
      "+----+-------+-------+-----+----+\n",
      "|null|Company| Person|Sales|null|\n",
      "|null|   GOOG|    Sam|200.0|null|\n",
      "|null|   GOOG|Charlie|120.0|null|\n",
      "|null|   GOOG|  Frank|340.0|null|\n",
      "|null|   MSFT|   Tina|600.0|null|\n",
      "|null|   MSFT|    Amy|124.0|null|\n",
      "|null|   MSFT|Vanessa|243.0|null|\n",
      "|null|     FB|   Carl|870.0|null|\n",
      "|null|     FB|  Sarah|350.0|null|\n",
      "|null|   APPL|   John|250.0|null|\n",
      "|null|   APPL|  Linda|130.0|null|\n",
      "|null|   APPL|   Mike|750.0|null|\n",
      "|null|   APPL|  Chris|350.0|null|\n",
      "+----+-------+-------+-----+----+\n",
      "\n"
     ]
    }
   ],
   "source": [
    "tabela1.show()"
   ]
  },
  {
   "cell_type": "code",
   "execution_count": 15,
   "metadata": {},
   "outputs": [],
   "source": [
    "from pyspark.sql.types import StringType, StructType, StructField"
   ]
  },
  {
   "cell_type": "code",
   "execution_count": 45,
   "metadata": {},
   "outputs": [],
   "source": [
    "schema = StructType([StructField('coluna1', StringType(), True), \\\n",
    "                    StructField('coluna2', StringType(), True), \\\n",
    "                    StructField('coluna3', StringType(), True), \\\n",
    "                    StructField('coluna4', StringType(), True), \\\n",
    "                    StructField('coluna5', StringType(), True),\n",
    "                    StructField('coluna6', StringType(), True)\n",
    "                    ])"
   ]
  },
  {
   "cell_type": "code",
   "execution_count": 46,
   "metadata": {},
   "outputs": [],
   "source": [
    "tabela1 = spark.read.format('csv').option('sep', '|').schema(schema).load('dados/tabela1.csv')"
   ]
  },
  {
   "cell_type": "code",
   "execution_count": 47,
   "metadata": {},
   "outputs": [
    {
     "name": "stdout",
     "output_type": "stream",
     "text": [
      "+-------+-------+-------+-------+-------+-------+\n",
      "|coluna1|coluna2|coluna3|coluna4|coluna5|coluna6|\n",
      "+-------+-------+-------+-------+-------+-------+\n",
      "|   null|Company| Person|  Sales|   null|   null|\n",
      "|   null|   GOOG|    Sam|  200.0|   null|   null|\n",
      "|   null|   GOOG|Charlie|  120.0|   null|   null|\n",
      "|   null|   GOOG|  Frank|  340.0|   null|   null|\n",
      "|   null|   MSFT|   Tina|  600.0|   null|   null|\n",
      "|   null|   MSFT|    Amy|  124.0|   null|   null|\n",
      "|   null|   MSFT|Vanessa|  243.0|   null|   null|\n",
      "|   null|     FB|   Carl|  870.0|   null|   null|\n",
      "|   null|     FB|  Sarah|  350.0|   null|   null|\n",
      "|   null|   APPL|   John|  250.0|   null|   null|\n",
      "|   null|   APPL|  Linda|  130.0|   null|   null|\n",
      "|   null|   APPL|   Mike|  750.0|   null|   null|\n",
      "|   null|   APPL|  Chris|  350.0|   null|   null|\n",
      "+-------+-------+-------+-------+-------+-------+\n",
      "\n"
     ]
    }
   ],
   "source": [
    "tabela1.show()"
   ]
  },
  {
   "cell_type": "code",
   "execution_count": 56,
   "metadata": {},
   "outputs": [
    {
     "name": "stdout",
     "output_type": "stream",
     "text": [
      "+-------+-------+-------+\n",
      "|coluna2|coluna3|coluna4|\n",
      "+-------+-------+-------+\n",
      "|Company| Person|  Sales|\n",
      "|   GOOG|    Sam|  200.0|\n",
      "|   GOOG|Charlie|  120.0|\n",
      "|   GOOG|  Frank|  340.0|\n",
      "|   MSFT|   Tina|  600.0|\n",
      "|   MSFT|    Amy|  124.0|\n",
      "|   MSFT|Vanessa|  243.0|\n",
      "|     FB|   Carl|  870.0|\n",
      "|     FB|  Sarah|  350.0|\n",
      "|   APPL|   John|  250.0|\n",
      "|   APPL|  Linda|  130.0|\n",
      "|   APPL|   Mike|  750.0|\n",
      "|   APPL|  Chris|  350.0|\n",
      "+-------+-------+-------+\n",
      "\n"
     ]
    }
   ],
   "source": [
    "tabela1 = tabela1.drop('coluna1','coluna5','coluna6').show()"
   ]
  },
  {
   "cell_type": "code",
   "execution_count": 54,
   "metadata": {},
   "outputs": [],
   "source": [
    "tabela2 = spark.read.format('csv').option('sep', '|').load('dados/tabela2.csv')"
   ]
  },
  {
   "cell_type": "code",
   "execution_count": 71,
   "metadata": {},
   "outputs": [
    {
     "name": "stdout",
     "output_type": "stream",
     "text": [
      "+-------+-------+-------+------------------+\n",
      "|    _c1|    _c2|    _c3|               _c4|\n",
      "+-------+-------+-------+------------------+\n",
      "|summary|Company| Person|             Sales|\n",
      "|  count|     12|     12|                12|\n",
      "|   mean|   null|   null| 360.5833333333333|\n",
      "| stddev|   null|   null|250.08742410799007|\n",
      "|    min|   APPL|  Chris|             120.0|\n",
      "|    max|   MSFT|Vanessa|             870.0|\n",
      "+-------+-------+-------+------------------+\n",
      "\n"
     ]
    }
   ],
   "source": [
    "tabela2 = tabela2.drop('_c0','_c5')\n",
    "tabela2.show()"
   ]
  },
  {
   "cell_type": "code",
   "execution_count": 72,
   "metadata": {},
   "outputs": [
    {
     "name": "stdout",
     "output_type": "stream",
     "text": [
      "+-------+-------+-------+------------------+\n",
      "|    _c1|    _c2|    _c3|               _c4|\n",
      "+-------+-------+-------+------------------+\n",
      "|  count|     12|     12|                12|\n",
      "|    min|   APPL|  Chris|             120.0|\n",
      "|    max|   MSFT|Vanessa|             870.0|\n",
      "|summary|Company| Person|             Sales|\n",
      "|   mean|   null|   null| 360.5833333333333|\n",
      "| stddev|   null|   null|250.08742410799007|\n",
      "+-------+-------+-------+------------------+\n",
      "\n"
     ]
    }
   ],
   "source": [
    "tabela2.orderBy('_c4').show() "
   ]
  },
  {
   "cell_type": "code",
   "execution_count": 74,
   "metadata": {},
   "outputs": [
    {
     "ename": "SyntaxError",
     "evalue": "invalid syntax (<ipython-input-74-efbbd03f099e>, line 1)",
     "output_type": "error",
     "traceback": [
      "\u001b[0;36m  File \u001b[0;32m\"<ipython-input-74-efbbd03f099e>\"\u001b[0;36m, line \u001b[0;32m1\u001b[0m\n\u001b[0;31m    tabela1.join(tabela2._c1 <> tabela.1)\u001b[0m\n\u001b[0m                              ^\u001b[0m\n\u001b[0;31mSyntaxError\u001b[0m\u001b[0;31m:\u001b[0m invalid syntax\n"
     ]
    }
   ],
   "source": [
    "tabela1.join(tabela2._c1 <> tabela.1)"
   ]
  },
  {
   "cell_type": "code",
   "execution_count": null,
   "metadata": {},
   "outputs": [],
   "source": []
  }
 ],
 "metadata": {
  "kernelspec": {
   "display_name": "Python 3",
   "language": "python",
   "name": "python3"
  },
  "language_info": {
   "codemirror_mode": {
    "name": "ipython",
    "version": 3
   },
   "file_extension": ".py",
   "mimetype": "text/x-python",
   "name": "python",
   "nbconvert_exporter": "python",
   "pygments_lexer": "ipython3",
   "version": "3.7.6"
  }
 },
 "nbformat": 4,
 "nbformat_minor": 4
}
