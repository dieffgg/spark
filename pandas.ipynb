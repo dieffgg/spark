{
 "cells": [
  {
   "cell_type": "code",
   "execution_count": 1,
   "metadata": {},
   "outputs": [
    {
     "name": "stdout",
     "output_type": "stream",
     "text": [
      "0\n",
      "1\n",
      "2\n",
      "3\n",
      "4\n",
      "5\n",
      "6\n",
      "7\n",
      "8\n",
      "9\n"
     ]
    }
   ],
   "source": [
    "for i in range(10):\n",
    "    print(i)"
   ]
  },
  {
   "cell_type": "code",
   "execution_count": 1,
   "metadata": {},
   "outputs": [],
   "source": [
    "import pandas as pd \n"
   ]
  },
  {
   "cell_type": "code",
   "execution_count": 3,
   "metadata": {},
   "outputs": [
    {
     "name": "stdout",
     "output_type": "stream",
     "text": [
      "\n",
      "envs 1.3 py_0\n",
      "-------------\n",
      "file name   : envs-1.3-py_0.tar.bz2\n",
      "name        : envs\n",
      "version     : 1.3\n",
      "build string: py_0\n",
      "build number: 0\n",
      "channel     : https://conda.anaconda.org/conda-forge/noarch\n",
      "size        : 15 KB\n",
      "arch        : None\n",
      "constrains  : ()\n",
      "license     : Apache-2.0\n",
      "license_family: Apache\n",
      "md5         : dd53b616d25a6c00800cedd75a022c4b\n",
      "noarch      : python\n",
      "package_type: noarch_python\n",
      "platform    : None\n",
      "sha256      : 17c4d91d835ae8200e9547fb18af2825833113cca8208a2d65dc066cbbc173f5\n",
      "subdir      : noarch\n",
      "timestamp   : 1576082572801\n",
      "url         : https://conda.anaconda.org/conda-forge/noarch/envs-1.3-py_0.tar.bz2\n",
      "dependencies:\n",
      "    click\n",
      "    jinja2\n",
      "    python\n",
      "    terminaltables\n",
      "WARNING: 'conda info package_name' is deprecated.\n",
      "          Use 'conda search package_name --info'.\n",
      "\n",
      "Note: you may need to restart the kernel to use updated packages.\n"
     ]
    }
   ],
   "source": [
    "conda info -- envs"
   ]
  },
  {
   "cell_type": "code",
   "execution_count": null,
   "metadata": {},
   "outputs": [],
   "source": []
  }
 ],
 "metadata": {
  "kernelspec": {
   "display_name": "Python 3",
   "language": "python",
   "name": "python3"
  },
  "language_info": {
   "codemirror_mode": {
    "name": "ipython",
    "version": 3
   },
   "file_extension": ".py",
   "mimetype": "text/x-python",
   "name": "python",
   "nbconvert_exporter": "python",
   "pygments_lexer": "ipython3",
   "version": "3.7.6"
  }
 },
 "nbformat": 4,
 "nbformat_minor": 4
}
