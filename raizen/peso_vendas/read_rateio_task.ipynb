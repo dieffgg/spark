{
 "cells": [
  {
   "cell_type": "code",
   "execution_count": 5,
   "metadata": {},
   "outputs": [],
   "source": [
    "from azure.datalake.store import core, lib, multithread"
   ]
  },
  {
   "cell_type": "code",
   "execution_count": 6,
   "metadata": {},
   "outputs": [],
   "source": [
    "from pyspark.sql import SparkSession"
   ]
  },
  {
   "cell_type": "code",
   "execution_count": 7,
   "metadata": {},
   "outputs": [],
   "source": [
    "spark = SparkSession.builder \\\n",
    "            .master(\"local[8]\") \\\n",
    "            .appName(\"airflow_app\") \\\n",
    "            .config('spark.executor.memory', '16g') \\\n",
    "            .config('spark.driver.memory', '16g') \\\n",
    "            .config('spark.sql.execution.pandas.respectSessionTimeZone', False) \\\n",
    "            .config(\"spark.driver.maxResultSize\", \"2048MB\") \\\n",
    "            .config(\"spark.port.maxRetries\", \"100\") \\\n",
    "            .config(\"spark.sql.execution.arrow.enabled\", \"true\") \\\n",
    "            .getOrCreate()"
   ]
  },
  {
   "cell_type": "code",
   "execution_count": 8,
   "metadata": {},
   "outputs": [
    {
     "name": "stdout",
     "output_type": "stream",
     "text": [
      "To sign in, use a web browser to open the page https://microsoft.com/devicelogin and enter the code BYT4KVUJD to authenticate.\n"
     ]
    }
   ],
   "source": [
    "adlCreds = lib.auth(url_suffix='raizenprd01', resource='https://datalake.azure.net/')"
   ]
  },
  {
   "cell_type": "code",
   "execution_count": 9,
   "metadata": {},
   "outputs": [],
   "source": [
    "spark.conf.set(\"fs.adl.oauth2.access.token.provider.type\", \"RefreshToken\")\n",
    "spark.conf.set(\"fs.adl.oauth2.client.id\", adlCreds.token['client'])\n",
    "spark.conf.set(\"fs.adl.oauth2.refresh.token\", adlCreds.token['refreshToken'])\n"
   ]
  },
  {
   "cell_type": "code",
   "execution_count": 16,
   "metadata": {},
   "outputs": [],
   "source": [
    "df = spark.read.parquet('adl://raizenprd01.azuredatalakestore.net/ldt_dev/sandbox/previsao_demanda/dieffgg/06_mastertable/master')\n"
   ]
  },
  {
   "cell_type": "code",
   "execution_count": 17,
   "metadata": {},
   "outputs": [
    {
     "name": "stdout",
     "output_type": "stream",
     "text": [
      "+-------------------+----+--------+-----------+-------------------+---+---------+\n",
      "|               Date|Base|Segmento|    Produto|             Cidade| UF|   Volume|\n",
      "+-------------------+----+--------+-----------+-------------------+---+---------+\n",
      "|2019-10-04 00:00:00| BIP|       V|     Etanol|          SAO PAULO| SP|1417000.0|\n",
      "|2019-10-15 00:00:00|BEST|       V|   Gasolina|             VIAMAO| RS|  74000.0|\n",
      "|2019-10-21 00:00:00|BBRA|       V|     Etanol|           BRASILIA| DF| 105000.0|\n",
      "|2019-10-21 00:00:00| BPA|       V|Diesel S500|     CAPELA DO ALTO| SP|   5000.0|\n",
      "|2019-10-22 00:00:00|BETI|       V|     Etanol|          RIO MANSO| MG|  10000.0|\n",
      "|2019-10-25 00:00:00|BEST|       V|   Gasolina|     CARLOS BARBOSA| RS|  15000.0|\n",
      "|2019-12-03 00:00:00|BBAR|       V|Diesel S500|                ITU| SP|   5000.0|\n",
      "|2019-12-30 00:00:00|BMAR|       V|     Etanol|            MARINGA| PR| 123000.0|\n",
      "|2019-08-13 00:00:00|BMAR|       V|   Gasolina|     NOVA ANDRADINA| MS|  20000.0|\n",
      "|2019-08-16 00:00:00|BBET|       V| Diesel S10|      MONTES CLAROS| MG| 192200.0|\n",
      "|2019-08-21 00:00:00| BIP|       V|     Etanol|    ITAQUAQUECETUBA| SP|  20000.0|\n",
      "|2019-08-30 00:00:00|BSTE|       V|   Gasolina|           TERESINA| PI| 446000.0|\n",
      "|2019-11-01 00:00:00|BGOI|       V|     Etanol|         UBERLANDIA| MG| 155000.0|\n",
      "|2019-11-03 00:00:00| BIP|       V|   Gasolina|        PORTO FELIZ| SP|  10000.0|\n",
      "|2019-11-13 00:00:00| BPA|       V|   Gasolina|     AGUAS DA PRATA| SP|   7000.0|\n",
      "|2019-11-13 00:00:00|BSLU|       V|   Gasolina|SAO JOSE DE RIBAMAR| MA|  30000.0|\n",
      "|2019-11-18 00:00:00|BSLE|       V|   Gasolina|         ANANINDEUA| PA| 250000.0|\n",
      "|2019-11-27 00:00:00|BMAD|       V| Diesel S10|       ITABAIANINHA| SE|      0.0|\n",
      "|2019-07-06 00:00:00|BRIA|       V|Diesel S500|          LINDOESTE| PR|  90000.0|\n",
      "|2019-07-08 00:00:00|BUBB|       V| Diesel S10|        ALPINOPOLIS| MG|  10000.0|\n",
      "+-------------------+----+--------+-----------+-------------------+---+---------+\n",
      "only showing top 20 rows\n",
      "\n"
     ]
    }
   ],
   "source": [
    "df.show()"
   ]
  },
  {
   "cell_type": "code",
   "execution_count": null,
   "metadata": {},
   "outputs": [],
   "source": []
  }
 ],
 "metadata": {
  "kernelspec": {
   "display_name": "Python 3",
   "language": "python",
   "name": "python3"
  },
  "language_info": {
   "codemirror_mode": {
    "name": "ipython",
    "version": 3
   },
   "file_extension": ".py",
   "mimetype": "text/x-python",
   "name": "python",
   "nbconvert_exporter": "python",
   "pygments_lexer": "ipython3",
   "version": "3.7.6"
  }
 },
 "nbformat": 4,
 "nbformat_minor": 4
}
