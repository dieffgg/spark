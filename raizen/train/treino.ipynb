{
 "cells": [
  {
   "cell_type": "code",
   "execution_count": 1,
   "metadata": {},
   "outputs": [
    {
     "name": "stdout",
     "output_type": "stream",
     "text": [
      "Collecting azure-datalake-store\n",
      "  Using cached azure_datalake_store-0.0.48-py2.py3-none-any.whl (53 kB)\n",
      "Requirement already satisfied: cffi in /opt/conda/lib/python3.7/site-packages (from azure-datalake-store) (1.14.0)\n",
      "Collecting adal>=0.4.2\n",
      "  Using cached adal-1.2.3-py2.py3-none-any.whl (53 kB)\n",
      "Requirement already satisfied: requests>=2.20.0 in /opt/conda/lib/python3.7/site-packages (from azure-datalake-store) (2.23.0)\n",
      "Requirement already satisfied: pycparser in /opt/conda/lib/python3.7/site-packages (from cffi->azure-datalake-store) (2.20)\n",
      "Requirement already satisfied: PyJWT>=1.0.0 in /opt/conda/lib/python3.7/site-packages (from adal>=0.4.2->azure-datalake-store) (1.7.1)\n",
      "Requirement already satisfied: python-dateutil>=2.1.0 in /opt/conda/lib/python3.7/site-packages (from adal>=0.4.2->azure-datalake-store) (2.8.1)\n",
      "Requirement already satisfied: cryptography>=1.1.0 in /opt/conda/lib/python3.7/site-packages (from adal>=0.4.2->azure-datalake-store) (2.9.2)\n",
      "Requirement already satisfied: certifi>=2017.4.17 in /opt/conda/lib/python3.7/site-packages (from requests>=2.20.0->azure-datalake-store) (2020.4.5.1)\n",
      "Requirement already satisfied: urllib3!=1.25.0,!=1.25.1,<1.26,>=1.21.1 in /opt/conda/lib/python3.7/site-packages (from requests>=2.20.0->azure-datalake-store) (1.25.9)\n",
      "Requirement already satisfied: chardet<4,>=3.0.2 in /opt/conda/lib/python3.7/site-packages (from requests>=2.20.0->azure-datalake-store) (3.0.4)\n",
      "Requirement already satisfied: idna<3,>=2.5 in /opt/conda/lib/python3.7/site-packages (from requests>=2.20.0->azure-datalake-store) (2.9)\n",
      "Requirement already satisfied: six>=1.5 in /opt/conda/lib/python3.7/site-packages (from python-dateutil>=2.1.0->adal>=0.4.2->azure-datalake-store) (1.14.0)\n",
      "Installing collected packages: adal, azure-datalake-store\n",
      "Successfully installed adal-1.2.3 azure-datalake-store-0.0.48\n"
     ]
    }
   ],
   "source": [
    "!pip install azure-datalake-store"
   ]
  },
  {
   "cell_type": "code",
   "execution_count": 2,
   "metadata": {},
   "outputs": [],
   "source": [
    "from azure.datalake.store import core, lib, multithread\n"
   ]
  },
  {
   "cell_type": "code",
   "execution_count": 3,
   "metadata": {},
   "outputs": [],
   "source": [
    "from pyspark.sql import SparkSession\n"
   ]
  },
  {
   "cell_type": "code",
   "execution_count": 4,
   "metadata": {},
   "outputs": [],
   "source": [
    "spark = SparkSession.builder \\\n",
    "            .master(\"local[8]\") \\\n",
    "            .appName(\"airflow_app\") \\\n",
    "            .config('spark.executor.memory', '16g') \\\n",
    "            .config('spark.driver.memory', '16g') \\\n",
    "            .config('spark.sql.execution.pandas.respectSessionTimeZone', False) \\\n",
    "            .config(\"spark.driver.maxResultSize\", \"2048MB\") \\\n",
    "            .config(\"spark.port.maxRetries\", \"100\") \\\n",
    "            .config(\"spark.sql.execution.arrow.enabled\", \"true\") \\\n",
    "            .getOrCreate()\n"
   ]
  },
  {
   "cell_type": "code",
   "execution_count": 6,
   "metadata": {},
   "outputs": [
    {
     "name": "stdout",
     "output_type": "stream",
     "text": [
      "To sign in, use a web browser to open the page https://microsoft.com/devicelogin and enter the code FH4CGPXQR to authenticate.\n"
     ]
    }
   ],
   "source": [
    "adlCreds = lib.auth(url_suffix='raizenprd01', resource='https://datalake.azure.net/')"
   ]
  },
  {
   "cell_type": "code",
   "execution_count": 7,
   "metadata": {},
   "outputs": [],
   "source": [
    "spark.conf.set(\"fs.adl.oauth2.access.token.provider.type\", \"RefreshToken\")\n",
    "spark.conf.set(\"fs.adl.oauth2.client.id\", adlCreds.token['client'])\n",
    "spark.conf.set(\"fs.adl.oauth2.refresh.token\", adlCreds.token['refreshToken'])\n"
   ]
  },
  {
   "cell_type": "code",
   "execution_count": 8,
   "metadata": {},
   "outputs": [],
   "source": [
    "import pandas as pd\n",
    "from pyspark.sql.functions import *\n",
    "from pyspark.sql import functions as F\n",
    "from pyspark.sql.types import StringType,StructField, StructType  "
   ]
  },
  {
   "cell_type": "code",
   "execution_count": 5,
   "metadata": {},
   "outputs": [
    {
     "ename": "Py4JJavaError",
     "evalue": "An error occurred while calling o70.load.\n: java.io.IOException: Password fs.adl.oauth2.client.id not found\n\tat org.apache.hadoop.fs.adl.AdlFileSystem.getPasswordString(AdlFileSystem.java:950)\n\tat org.apache.hadoop.fs.adl.AdlFileSystem.getConfCredentialBasedTokenProvider(AdlFileSystem.java:289)\n\tat org.apache.hadoop.fs.adl.AdlFileSystem.getAccessTokenProvider(AdlFileSystem.java:268)\n\tat org.apache.hadoop.fs.adl.AdlFileSystem.initialize(AdlFileSystem.java:174)\n\tat org.apache.hadoop.fs.FileSystem.createFileSystem(FileSystem.java:3354)\n\tat org.apache.hadoop.fs.FileSystem.access$200(FileSystem.java:124)\n\tat org.apache.hadoop.fs.FileSystem$Cache.getInternal(FileSystem.java:3403)\n\tat org.apache.hadoop.fs.FileSystem$Cache.get(FileSystem.java:3371)\n\tat org.apache.hadoop.fs.FileSystem.get(FileSystem.java:477)\n\tat org.apache.hadoop.fs.Path.getFileSystem(Path.java:361)\n\tat org.apache.spark.sql.execution.datasources.DataSource.$anonfun$checkAndGlobPathIfNecessary$1(DataSource.scala:547)\n\tat scala.collection.TraversableLike.$anonfun$flatMap$1(TraversableLike.scala:244)\n\tat scala.collection.immutable.List.foreach(List.scala:392)\n\tat scala.collection.TraversableLike.flatMap(TraversableLike.scala:244)\n\tat scala.collection.TraversableLike.flatMap$(TraversableLike.scala:241)\n\tat scala.collection.immutable.List.flatMap(List.scala:355)\n\tat org.apache.spark.sql.execution.datasources.DataSource.checkAndGlobPathIfNecessary(DataSource.scala:545)\n\tat org.apache.spark.sql.execution.datasources.DataSource.resolveRelation(DataSource.scala:359)\n\tat org.apache.spark.sql.DataFrameReader.loadV1Source(DataFrameReader.scala:223)\n\tat org.apache.spark.sql.DataFrameReader.load(DataFrameReader.scala:211)\n\tat org.apache.spark.sql.DataFrameReader.load(DataFrameReader.scala:178)\n\tat java.base/jdk.internal.reflect.NativeMethodAccessorImpl.invoke0(Native Method)\n\tat java.base/jdk.internal.reflect.NativeMethodAccessorImpl.invoke(NativeMethodAccessorImpl.java:62)\n\tat java.base/jdk.internal.reflect.DelegatingMethodAccessorImpl.invoke(DelegatingMethodAccessorImpl.java:43)\n\tat java.base/java.lang.reflect.Method.invoke(Method.java:566)\n\tat py4j.reflection.MethodInvoker.invoke(MethodInvoker.java:244)\n\tat py4j.reflection.ReflectionEngine.invoke(ReflectionEngine.java:357)\n\tat py4j.Gateway.invoke(Gateway.java:282)\n\tat py4j.commands.AbstractCommand.invokeMethod(AbstractCommand.java:132)\n\tat py4j.commands.CallCommand.execute(CallCommand.java:79)\n\tat py4j.GatewayConnection.run(GatewayConnection.java:238)\n\tat java.base/java.lang.Thread.run(Thread.java:834)\n",
     "output_type": "error",
     "traceback": [
      "\u001b[0;31m---------------------------------------------------------------------------\u001b[0m",
      "\u001b[0;31mPy4JJavaError\u001b[0m                             Traceback (most recent call last)",
      "\u001b[0;32m<ipython-input-5-156e56dc9518>\u001b[0m in \u001b[0;36m<module>\u001b[0;34m\u001b[0m\n\u001b[0;32m----> 1\u001b[0;31m \u001b[0mdf_mes\u001b[0m \u001b[0;34m=\u001b[0m \u001b[0mspark\u001b[0m\u001b[0;34m.\u001b[0m\u001b[0mread\u001b[0m\u001b[0;34m.\u001b[0m\u001b[0mformat\u001b[0m\u001b[0;34m(\u001b[0m\u001b[0;34m'csv'\u001b[0m\u001b[0;34m)\u001b[0m\u001b[0;34m.\u001b[0m\u001b[0moption\u001b[0m\u001b[0;34m(\u001b[0m\u001b[0;34m'sep'\u001b[0m\u001b[0;34m,\u001b[0m\u001b[0;34m'|'\u001b[0m\u001b[0;34m)\u001b[0m\u001b[0;34m.\u001b[0m\u001b[0mload\u001b[0m\u001b[0;34m(\u001b[0m\u001b[0;34m'adl://raizenprd01.azuredatalakestore.net/ldt_dev/sandbox/previsao_demanda/01_raw/vendas_dia_complemento/mes'\u001b[0m\u001b[0;34m)\u001b[0m\u001b[0;34m\u001b[0m\u001b[0;34m\u001b[0m\u001b[0m\n\u001b[0m",
      "\u001b[0;32m/opt/spark/python/pyspark/sql/readwriter.py\u001b[0m in \u001b[0;36mload\u001b[0;34m(self, path, format, schema, **options)\u001b[0m\n\u001b[1;32m    164\u001b[0m         \u001b[0mself\u001b[0m\u001b[0;34m.\u001b[0m\u001b[0moptions\u001b[0m\u001b[0;34m(\u001b[0m\u001b[0;34m**\u001b[0m\u001b[0moptions\u001b[0m\u001b[0;34m)\u001b[0m\u001b[0;34m\u001b[0m\u001b[0;34m\u001b[0m\u001b[0m\n\u001b[1;32m    165\u001b[0m         \u001b[0;32mif\u001b[0m \u001b[0misinstance\u001b[0m\u001b[0;34m(\u001b[0m\u001b[0mpath\u001b[0m\u001b[0;34m,\u001b[0m \u001b[0mbasestring\u001b[0m\u001b[0;34m)\u001b[0m\u001b[0;34m:\u001b[0m\u001b[0;34m\u001b[0m\u001b[0;34m\u001b[0m\u001b[0m\n\u001b[0;32m--> 166\u001b[0;31m             \u001b[0;32mreturn\u001b[0m \u001b[0mself\u001b[0m\u001b[0;34m.\u001b[0m\u001b[0m_df\u001b[0m\u001b[0;34m(\u001b[0m\u001b[0mself\u001b[0m\u001b[0;34m.\u001b[0m\u001b[0m_jreader\u001b[0m\u001b[0;34m.\u001b[0m\u001b[0mload\u001b[0m\u001b[0;34m(\u001b[0m\u001b[0mpath\u001b[0m\u001b[0;34m)\u001b[0m\u001b[0;34m)\u001b[0m\u001b[0;34m\u001b[0m\u001b[0;34m\u001b[0m\u001b[0m\n\u001b[0m\u001b[1;32m    167\u001b[0m         \u001b[0;32melif\u001b[0m \u001b[0mpath\u001b[0m \u001b[0;32mis\u001b[0m \u001b[0;32mnot\u001b[0m \u001b[0;32mNone\u001b[0m\u001b[0;34m:\u001b[0m\u001b[0;34m\u001b[0m\u001b[0;34m\u001b[0m\u001b[0m\n\u001b[1;32m    168\u001b[0m             \u001b[0;32mif\u001b[0m \u001b[0mtype\u001b[0m\u001b[0;34m(\u001b[0m\u001b[0mpath\u001b[0m\u001b[0;34m)\u001b[0m \u001b[0;34m!=\u001b[0m \u001b[0mlist\u001b[0m\u001b[0;34m:\u001b[0m\u001b[0;34m\u001b[0m\u001b[0;34m\u001b[0m\u001b[0m\n",
      "\u001b[0;32m/opt/spark/python/lib/py4j-0.10.7-src.zip/py4j/java_gateway.py\u001b[0m in \u001b[0;36m__call__\u001b[0;34m(self, *args)\u001b[0m\n\u001b[1;32m   1255\u001b[0m         \u001b[0manswer\u001b[0m \u001b[0;34m=\u001b[0m \u001b[0mself\u001b[0m\u001b[0;34m.\u001b[0m\u001b[0mgateway_client\u001b[0m\u001b[0;34m.\u001b[0m\u001b[0msend_command\u001b[0m\u001b[0;34m(\u001b[0m\u001b[0mcommand\u001b[0m\u001b[0;34m)\u001b[0m\u001b[0;34m\u001b[0m\u001b[0;34m\u001b[0m\u001b[0m\n\u001b[1;32m   1256\u001b[0m         return_value = get_return_value(\n\u001b[0;32m-> 1257\u001b[0;31m             answer, self.gateway_client, self.target_id, self.name)\n\u001b[0m\u001b[1;32m   1258\u001b[0m \u001b[0;34m\u001b[0m\u001b[0m\n\u001b[1;32m   1259\u001b[0m         \u001b[0;32mfor\u001b[0m \u001b[0mtemp_arg\u001b[0m \u001b[0;32min\u001b[0m \u001b[0mtemp_args\u001b[0m\u001b[0;34m:\u001b[0m\u001b[0;34m\u001b[0m\u001b[0;34m\u001b[0m\u001b[0m\n",
      "\u001b[0;32m/opt/spark/python/pyspark/sql/utils.py\u001b[0m in \u001b[0;36mdeco\u001b[0;34m(*a, **kw)\u001b[0m\n\u001b[1;32m     61\u001b[0m     \u001b[0;32mdef\u001b[0m \u001b[0mdeco\u001b[0m\u001b[0;34m(\u001b[0m\u001b[0;34m*\u001b[0m\u001b[0ma\u001b[0m\u001b[0;34m,\u001b[0m \u001b[0;34m**\u001b[0m\u001b[0mkw\u001b[0m\u001b[0;34m)\u001b[0m\u001b[0;34m:\u001b[0m\u001b[0;34m\u001b[0m\u001b[0;34m\u001b[0m\u001b[0m\n\u001b[1;32m     62\u001b[0m         \u001b[0;32mtry\u001b[0m\u001b[0;34m:\u001b[0m\u001b[0;34m\u001b[0m\u001b[0;34m\u001b[0m\u001b[0m\n\u001b[0;32m---> 63\u001b[0;31m             \u001b[0;32mreturn\u001b[0m \u001b[0mf\u001b[0m\u001b[0;34m(\u001b[0m\u001b[0;34m*\u001b[0m\u001b[0ma\u001b[0m\u001b[0;34m,\u001b[0m \u001b[0;34m**\u001b[0m\u001b[0mkw\u001b[0m\u001b[0;34m)\u001b[0m\u001b[0;34m\u001b[0m\u001b[0;34m\u001b[0m\u001b[0m\n\u001b[0m\u001b[1;32m     64\u001b[0m         \u001b[0;32mexcept\u001b[0m \u001b[0mpy4j\u001b[0m\u001b[0;34m.\u001b[0m\u001b[0mprotocol\u001b[0m\u001b[0;34m.\u001b[0m\u001b[0mPy4JJavaError\u001b[0m \u001b[0;32mas\u001b[0m \u001b[0me\u001b[0m\u001b[0;34m:\u001b[0m\u001b[0;34m\u001b[0m\u001b[0;34m\u001b[0m\u001b[0m\n\u001b[1;32m     65\u001b[0m             \u001b[0ms\u001b[0m \u001b[0;34m=\u001b[0m \u001b[0me\u001b[0m\u001b[0;34m.\u001b[0m\u001b[0mjava_exception\u001b[0m\u001b[0;34m.\u001b[0m\u001b[0mtoString\u001b[0m\u001b[0;34m(\u001b[0m\u001b[0;34m)\u001b[0m\u001b[0;34m\u001b[0m\u001b[0;34m\u001b[0m\u001b[0m\n",
      "\u001b[0;32m/opt/spark/python/lib/py4j-0.10.7-src.zip/py4j/protocol.py\u001b[0m in \u001b[0;36mget_return_value\u001b[0;34m(answer, gateway_client, target_id, name)\u001b[0m\n\u001b[1;32m    326\u001b[0m                 raise Py4JJavaError(\n\u001b[1;32m    327\u001b[0m                     \u001b[0;34m\"An error occurred while calling {0}{1}{2}.\\n\"\u001b[0m\u001b[0;34m.\u001b[0m\u001b[0;34m\u001b[0m\u001b[0;34m\u001b[0m\u001b[0m\n\u001b[0;32m--> 328\u001b[0;31m                     format(target_id, \".\", name), value)\n\u001b[0m\u001b[1;32m    329\u001b[0m             \u001b[0;32melse\u001b[0m\u001b[0;34m:\u001b[0m\u001b[0;34m\u001b[0m\u001b[0;34m\u001b[0m\u001b[0m\n\u001b[1;32m    330\u001b[0m                 raise Py4JError(\n",
      "\u001b[0;31mPy4JJavaError\u001b[0m: An error occurred while calling o70.load.\n: java.io.IOException: Password fs.adl.oauth2.client.id not found\n\tat org.apache.hadoop.fs.adl.AdlFileSystem.getPasswordString(AdlFileSystem.java:950)\n\tat org.apache.hadoop.fs.adl.AdlFileSystem.getConfCredentialBasedTokenProvider(AdlFileSystem.java:289)\n\tat org.apache.hadoop.fs.adl.AdlFileSystem.getAccessTokenProvider(AdlFileSystem.java:268)\n\tat org.apache.hadoop.fs.adl.AdlFileSystem.initialize(AdlFileSystem.java:174)\n\tat org.apache.hadoop.fs.FileSystem.createFileSystem(FileSystem.java:3354)\n\tat org.apache.hadoop.fs.FileSystem.access$200(FileSystem.java:124)\n\tat org.apache.hadoop.fs.FileSystem$Cache.getInternal(FileSystem.java:3403)\n\tat org.apache.hadoop.fs.FileSystem$Cache.get(FileSystem.java:3371)\n\tat org.apache.hadoop.fs.FileSystem.get(FileSystem.java:477)\n\tat org.apache.hadoop.fs.Path.getFileSystem(Path.java:361)\n\tat org.apache.spark.sql.execution.datasources.DataSource.$anonfun$checkAndGlobPathIfNecessary$1(DataSource.scala:547)\n\tat scala.collection.TraversableLike.$anonfun$flatMap$1(TraversableLike.scala:244)\n\tat scala.collection.immutable.List.foreach(List.scala:392)\n\tat scala.collection.TraversableLike.flatMap(TraversableLike.scala:244)\n\tat scala.collection.TraversableLike.flatMap$(TraversableLike.scala:241)\n\tat scala.collection.immutable.List.flatMap(List.scala:355)\n\tat org.apache.spark.sql.execution.datasources.DataSource.checkAndGlobPathIfNecessary(DataSource.scala:545)\n\tat org.apache.spark.sql.execution.datasources.DataSource.resolveRelation(DataSource.scala:359)\n\tat org.apache.spark.sql.DataFrameReader.loadV1Source(DataFrameReader.scala:223)\n\tat org.apache.spark.sql.DataFrameReader.load(DataFrameReader.scala:211)\n\tat org.apache.spark.sql.DataFrameReader.load(DataFrameReader.scala:178)\n\tat java.base/jdk.internal.reflect.NativeMethodAccessorImpl.invoke0(Native Method)\n\tat java.base/jdk.internal.reflect.NativeMethodAccessorImpl.invoke(NativeMethodAccessorImpl.java:62)\n\tat java.base/jdk.internal.reflect.DelegatingMethodAccessorImpl.invoke(DelegatingMethodAccessorImpl.java:43)\n\tat java.base/java.lang.reflect.Method.invoke(Method.java:566)\n\tat py4j.reflection.MethodInvoker.invoke(MethodInvoker.java:244)\n\tat py4j.reflection.ReflectionEngine.invoke(ReflectionEngine.java:357)\n\tat py4j.Gateway.invoke(Gateway.java:282)\n\tat py4j.commands.AbstractCommand.invokeMethod(AbstractCommand.java:132)\n\tat py4j.commands.CallCommand.execute(CallCommand.java:79)\n\tat py4j.GatewayConnection.run(GatewayConnection.java:238)\n\tat java.base/java.lang.Thread.run(Thread.java:834)\n"
     ]
    }
   ],
   "source": [
    "df_mes = spark.read.format('csv').option('sep','|').load('adl://raizenprd01.azuredatalakestore.net/ldt_dev/sandbox/previsao_demanda/01_raw/vendas_dia_complemento/mes')"
   ]
  },
  {
   "cell_type": "code",
   "execution_count": 10,
   "metadata": {},
   "outputs": [
    {
     "name": "stdout",
     "output_type": "stream",
     "text": [
      "+----+----+----+-----------+----------+------------+---+-----------+---+----------+----+------------+----------+--------------------+-----+----------+--------------------+-----------------+----+---------+----+-----+------------------+------------------+------------------+------------------+------------------+------------------+-------------+----+------------------+------------------+------------------+------------------+------------------+----------+------------+-------------------+--------+--------+--------------+----+\n",
      "| _c0| _c1| _c2|        _c3|       _c4|         _c5|_c6|        _c7|_c8|       _c9|_c10|        _c11|      _c12|                _c13| _c14|      _c15|                _c16|             _c17|_c18|     _c19|_c20| _c21|              _c22|              _c23|              _c24|              _c25|              _c26|              _c27|         _c28|_c29|              _c30|              _c31|              _c32|              _c33|              _c34|      _c35|        _c36|               _c37|    _c38|    _c39|          _c40|_c41|\n",
      "+----+----+----+-----------+----------+------------+---+-----------+---+----------+----+------------+----------+--------------------+-----+----------+--------------------+-----------------+----+---------+----+-----+------------------+------------------+------------------+------------------+------------------+------------------+-------------+----+------------------+------------------+------------------+------------------+------------------+----------+------------+-------------------+--------+--------+--------------+----+\n",
      "|null|Empr|Cent|Nota Fiscal|Data Saida|Data Criacao| UF|Faturamento|Itm|Vencimento|TpOV|Ordem Vendas|IBM       |Razao Social     ...|Canal|Material  |Descricao        ...|     Quantidade  | UM |Cond.Pgto|Inco|C.Exp|  Valor item      |Valor ZPFL        |Valor ZPFN        |Valor ZENC        |Imposto           |Valor ZDB1        |Target Block |UN  |Valor ZDDB        |Valor ZDIA        |Valor ZDFR        |Valor ICM3        |Valor ICS3        |Rep.Vendas|Acesso ZPFL |Volume             |UN      |Hora Fat|Refer�ncia    |null|\n",
      "|null|MIME|BARC|           |17.02.2020|17.02.2020  | SC|928050612  |010|26.02.2020|ZCRE|701624416   |1033260   |AUTO POSTO RESIDE...|V    |24319801  |OLEO DIESEL B S50...|           1,000-| L20|Z008     |FOB |1F   |        20.900,00-|             0,00 |        20.900,00-|             0,00 |             0,00 |             0,00 |             |    |             0,00 |             0,00 |             0,00 |             0,00 |             0,00 |00006070  |00          |             0,000 |L       |13:43:06|REBATE QUINZ  |null|\n",
      "|null|MIME|BARC|           |17.02.2020|17.02.2020  | SC|928050619  |010|26.02.2020|ZCRE|701624417   |1033260   |AUTO POSTO RESIDE...|V    |24144801  |OLEO DIESEL B S10...|           1,000-| L20|Z008     |FOB |1F   |        22.050,00-|             0,00 |        22.050,00-|             0,00 |             0,00 |             0,00 |             |    |             0,00 |             0,00 |             0,00 |             0,00 |             0,00 |00006070  |00          |             0,000 |L       |13:43:13|REBATE QUINZ  |null|\n",
      "|null|MIME|BARC|           |17.02.2020|17.02.2020  | SC|928050622  |010|18.02.2020|ZCRE|701624418   |1033260   |AUTO POSTO RESIDE...|V    |22147801  |GASOLINA TIPO C G...|           1,000-| L20|Z001     |FOB |1F   |         1.100,00-|             0,00 |         1.100,00-|             0,00 |             0,00 |             0,00 |             |    |             0,00 |             0,00 |             0,00 |             0,00 |             0,00 |00006070  |00          |             0,000 |L       |13:43:19|REBATE QUINZ  |null|\n",
      "|null|MIME|BARC|           |28.02.2020|28.02.2020  | SC|928131296  |010|09.03.2020|ZCRE|701633162   |1033260   |AUTO POSTO RESIDE...|V    |24319801  |OLEO DIESEL B S50...|           1,000-| L20|Z008     |FOB |1F   |        21.450,00-|             0,00 |        21.450,00-|             0,00 |             0,00 |             0,00 |             |    |             0,00 |             0,00 |             0,00 |             0,00 |             0,00 |00006070  |00          |             0,000 |L       |15:15:33|REBATE QUINZ  |null|\n",
      "|null|MIME|BARC|           |28.02.2020|28.02.2020  | SC|928131297  |010|09.03.2020|ZCRE|701633163   |1033260   |AUTO POSTO RESIDE...|V    |24144801  |OLEO DIESEL B S10...|           1,000-| L20|Z008     |FOB |1F   |        22.700,00-|             0,00 |        22.700,00-|             0,00 |             0,00 |             0,00 |             |    |             0,00 |             0,00 |             0,00 |             0,00 |             0,00 |00006070  |00          |             0,000 |L       |15:15:36|REBATE QUINZ  |null|\n",
      "|null|MIME|BARC|           |28.02.2020|28.02.2020  | SC|928131298  |010|02.03.2020|ZCRE|701633164   |1033260   |AUTO POSTO RESIDE...|V    |22147801  |GASOLINA TIPO C G...|           1,000-| L20|Z001     |FOB |1F   |         1.500,00-|             0,00 |         1.500,00-|             0,00 |             0,00 |             0,00 |             |    |             0,00 |             0,00 |             0,00 |             0,00 |             0,00 |00006070  |00          |             0,000 |L       |15:15:39|REBATE QUINZ  |null|\n",
      "|null|MIME|BARC|000078568-1|01.02.2020|01.02.2020  | SC|927945601  |010|10.02.2020|ZOVR|1031796898  |72931     |AGRICOPEL COM DER...|C    |24141801  |OLEO DIESEL B S10...|          62,000 | M3 |Z007     |FOB |1F   |       188.467,60 |       188.467,60 |       188.467,60 |             0,00 |             0,00 |             0,00 |             |    |             0,00 |             0,00 |             0,00 |             0,00 |             0,00 |00005863  |10          |        62.000,000 |L       |02:38:26|              |null|\n",
      "|null|MIME|BARC|000078569-1|01.02.2020|01.02.2020  | SC|927948047  |010|03.02.2020|ZOVR|1031792894  |1033260   |AUTO POSTO RESIDE...|V    |22149801  |GASOLINA TIPO C G...|           5,000 | M3 |Z001     |FOB |1F   |        20.143,75 |        20.143,75 |        20.143,75 |             0,00 |             0,00 |             0,00 |             |    |             0,00 |             0,00 |             0,00 |             0,00 |             0,00 |00006070  |01          |         5.000,000 |L       |05:14:45|              |null|\n",
      "|null|MIME|BARC|000078569-1|01.02.2020|01.02.2020  | SC|927948047  |050|03.02.2020|ZOVR|1031792894  |1033260   |AUTO POSTO RESIDE...|V    |24144801  |OLEO DIESEL B S10...|          25,000 | M3 |Z001     |FOB |1F   |        77.421,00 |        77.421,00 |        77.421,00 |             0,00 |             0,00 |             0,00 |             |    |             0,00 |             0,00 |             0,00 |             0,00 |             0,00 |00006070  |01          |        25.000,000 |L       |05:14:45|              |null|\n",
      "|null|MIME|BARC|000078569-1|01.02.2020|01.02.2020  | SC|927948047  |090|03.02.2020|ZOVR|1031792894  |1033260   |AUTO POSTO RESIDE...|V    |24314801  |OLEO DIESEL B S50...|          25,000 | M3 |Z001     |FOB |1F   |        77.034,50 |        77.034,50 |        77.034,50 |             0,00 |             0,00 |             0,00 |             |    |             0,00 |             0,00 |             0,00 |             0,00 |             0,00 |00006070  |01          |        25.000,000 |L       |05:14:45|              |null|\n",
      "|null|MIME|BARC|000078572-1|01.02.2020|01.02.2020  | SC|927948318  |010|03.02.2020|ZOVR|1031777154  |1033259   |POSTO RICHTER LTD...|V    |24144801  |OLEO DIESEL B S10...|           5,000 | M3 |Z001     |FOB |1F   |        16.153,40 |        16.153,40 |        16.153,40 |             0,00 |             0,00 |             0,00 |             |    |             0,00 |             0,00 |             0,00 |             0,00 |             0,00 |00004275  |01          |         5.000,000 |L       |09:07:56|              |null|\n",
      "|null|MIME|BARC|000078573-1|01.02.2020|01.02.2020  | SC|927949919  |050|03.02.2020|ZOVR|1031777154  |1033259   |POSTO RICHTER LTD...|V    |24314801  |OLEO DIESEL B S50...|          35,000 | M3 |Z001     |FOB |1F   |       110.637,80 |       110.637,80 |       110.637,80 |             0,00 |             0,00 |             0,00 |             |    |             0,00 |             0,00 |             0,00 |             0,00 |             0,00 |00004275  |01          |        35.000,000 |L       |09:07:56|              |null|\n",
      "|null|MIME|BARC|000078574-1|01.02.2020|01.02.2020  | SC|927949946  |010|10.02.2020|ZOVR|1031796733  |72931     |AGRICOPEL COM DER...|C    |24319801  |OLEO DIESEL B S50...|          62,000 | M3 |Z007     |FOB |1F   |       183.129,40 |       183.129,40 |       183.129,40 |             0,00 |             0,00 |             0,00 |             |    |             0,00 |             0,00 |             0,00 |             0,00 |             0,00 |00005863  |10          |        62.000,000 |L       |09:58:14|              |null|\n",
      "|null|MIME|BARC|000078575-1|01.02.2020|01.02.2020  | SC|927949978  |010|10.02.2020|ZOVR|1031796730  |72931     |AGRICOPEL COM DER...|C    |24141801  |OLEO DIESEL B S10...|          60,000 | M3 |Z007     |FOB |1F   |       182.388,00 |       182.388,00 |       182.388,00 |             0,00 |             0,00 |             0,00 |             |    |             0,00 |             0,00 |             0,00 |             0,00 |             0,00 |00005863  |10          |        60.000,000 |L       |10:23:02|              |null|\n",
      "|null|MIME|BARC|000078583-1|01.02.2020|01.02.2020  | SC|927950887  |050|04.02.2020|ZOVR|1031785976  |114871    |AUTO POSTO JHP LT...|V    |22149801  |GASOLINA TIPO C G...|          10,000 | M3 |Z003     |CIF |1C   |        39.545,57 |        39.444,20 |        39.545,57 |           101,37 |             0,00 |             0,00 |             |    |             0,00 |             0,00 |             0,00 |             0,00 |             0,00 |00004133  |03          |        10.000,000 |L       |14:44:08|              |null|\n",
      "|null|MIME|BARC|000078584-1|01.02.2020|01.02.2020  | SC|927950888  |050|03.02.2020|ZOVR|1031773548  |1032606   |POSTO AVENIDA DAS...|V    |22149801  |GASOLINA TIPO C G...|          10,000 | M3 |Z001     |CIF |1C   |        39.444,20 |        39.444,20 |        39.444,20 |             0,00 |             0,00 |             0,00 |             |    |             0,00 |             0,00 |             0,00 |             0,00 |             0,00 |00004728  |03          |        10.000,000 |L       |14:44:08|              |null|\n",
      "|null|MIME|BARC|000078585-1|01.02.2020|01.02.2020  | SC|927950889  |050|03.02.2020|ZOVR|1031790521  |1032633   |AUTO POSTO BOM VI...|V    |22149801  |GASOLINA TIPO C G...|          10,000 | M3 |ZPA      |CIF |1C   |        39.644,20 |        39.644,20 |        39.644,20 |             0,00 |             0,00 |             0,00 |             |    |             0,00 |             0,00 |             0,00 |             0,00 |             0,00 |00004728  |03          |        10.000,000 |L       |14:44:08|              |null|\n",
      "|null|MIME|BARC|000078588-1|02.02.2020|02.02.2020  | SC|927952188  |010|03.02.2020|ZOVR|1031792979  |1033260   |AUTO POSTO RESIDE...|V    |24144801  |OLEO DIESEL B S10...|          30,000 | M3 |Z001     |FOB |1F   |        92.905,20 |        92.905,20 |        92.905,20 |             0,00 |             0,00 |             0,00 |             |    |             0,00 |             0,00 |             0,00 |             0,00 |             0,00 |00006070  |01          |        30.000,000 |L       |07:53:41|              |null|\n",
      "|null|MIME|BARC|000078588-1|02.02.2020|02.02.2020  | SC|927952188  |050|03.02.2020|ZOVR|1031792979  |1033260   |AUTO POSTO RESIDE...|V    |24314801  |OLEO DIESEL B S50...|          25,000 | M3 |Z001     |FOB |1F   |        77.034,50 |        77.034,50 |        77.034,50 |             0,00 |             0,00 |             0,00 |             |    |             0,00 |             0,00 |             0,00 |             0,00 |             0,00 |00006070  |01          |        25.000,000 |L       |07:53:41|              |null|\n",
      "+----+----+----+-----------+----------+------------+---+-----------+---+----------+----+------------+----------+--------------------+-----+----------+--------------------+-----------------+----+---------+----+-----+------------------+------------------+------------------+------------------+------------------+------------------+-------------+----+------------------+------------------+------------------+------------------+------------------+----------+------------+-------------------+--------+--------+--------------+----+\n",
      "only showing top 20 rows\n",
      "\n"
     ]
    }
   ],
   "source": [
    "df_mes.show()"
   ]
  },
  {
   "cell_type": "code",
   "execution_count": 11,
   "metadata": {},
   "outputs": [
    {
     "ename": "NameError",
     "evalue": "name 'schema_mes' is not defined",
     "output_type": "error",
     "traceback": [
      "\u001b[0;31m---------------------------------------------------------------------------\u001b[0m",
      "\u001b[0;31mNameError\u001b[0m                                 Traceback (most recent call last)",
      "\u001b[0;32m<ipython-input-11-35efa43d6d96>\u001b[0m in \u001b[0;36m<module>\u001b[0;34m\u001b[0m\n\u001b[0;32m----> 1\u001b[0;31m \u001b[0mdf_mes\u001b[0m \u001b[0;34m=\u001b[0m \u001b[0mspark\u001b[0m\u001b[0;34m.\u001b[0m\u001b[0mread\u001b[0m\u001b[0;34m.\u001b[0m\u001b[0mformat\u001b[0m\u001b[0;34m(\u001b[0m\u001b[0;34m'csv'\u001b[0m\u001b[0;34m)\u001b[0m\u001b[0;34m.\u001b[0m\u001b[0moption\u001b[0m\u001b[0;34m(\u001b[0m\u001b[0;34m'sep'\u001b[0m\u001b[0;34m,\u001b[0m\u001b[0;34m'|'\u001b[0m\u001b[0;34m)\u001b[0m\u001b[0;34m.\u001b[0m\u001b[0mschema\u001b[0m\u001b[0;34m(\u001b[0m\u001b[0mschema_mes\u001b[0m\u001b[0;34m)\u001b[0m\u001b[0;34m.\u001b[0m\u001b[0mload\u001b[0m\u001b[0;34m(\u001b[0m\u001b[0;34m'adl://raizenprd01.azuredatalakestore.net/ldt_dev/sandbox/previsao_demanda/01_raw/vendas_dia_complemento/mes'\u001b[0m\u001b[0;34m)\u001b[0m\u001b[0;34m.\u001b[0m\u001b[0mwhere\u001b[0m\u001b[0;34m(\u001b[0m\u001b[0;34m\"Empr is not null and Empr <> 'Empr' \"\u001b[0m\u001b[0;34m)\u001b[0m\u001b[0;34m.\u001b[0m\u001b[0mselect\u001b[0m\u001b[0;34m(\u001b[0m\u001b[0;34m'Data Saida'\u001b[0m\u001b[0;34m,\u001b[0m\u001b[0;34m'Cent'\u001b[0m\u001b[0;34m,\u001b[0m\u001b[0;34m'Material'\u001b[0m\u001b[0;34m,\u001b[0m\u001b[0;34m'IBM'\u001b[0m\u001b[0;34m,\u001b[0m\u001b[0;34m'Volume'\u001b[0m\u001b[0;34m,\u001b[0m\u001b[0;34m'Canal'\u001b[0m\u001b[0;34m)\u001b[0m\u001b[0;34m\u001b[0m\u001b[0;34m\u001b[0m\u001b[0m\n\u001b[0m",
      "\u001b[0;31mNameError\u001b[0m: name 'schema_mes' is not defined"
     ]
    }
   ],
   "source": [
    "df_mes = spark.read.format('csv').option('sep','|').schema(schema_mes).load('adl://raizenprd01.azuredatalakestore.net/ldt_dev/sandbox/previsao_demanda/01_raw/vendas_dia_complemento/mes').where(\"Empr is not null and Empr <> 'Empr' \").select('Data Saida','Cent','Material','IBM','Volume','Canal')"
   ]
  },
  {
   "cell_type": "code",
   "execution_count": 87,
   "metadata": {},
   "outputs": [
    {
     "name": "stdout",
     "output_type": "stream",
     "text": [
      "+----------+----+----------+----------+-------------------+-----+\n",
      "|Data Saida|Cent|  Material|       IBM|             Volume|Canal|\n",
      "+----------+----+----------+----------+-------------------+-----+\n",
      "|17.02.2020|BARC|24319801  |1033260   |             0,000 |V    |\n",
      "|17.02.2020|BARC|24144801  |1033260   |             0,000 |V    |\n",
      "|17.02.2020|BARC|22147801  |1033260   |             0,000 |V    |\n",
      "|28.02.2020|BARC|24319801  |1033260   |             0,000 |V    |\n",
      "|28.02.2020|BARC|24144801  |1033260   |             0,000 |V    |\n",
      "|28.02.2020|BARC|22147801  |1033260   |             0,000 |V    |\n",
      "|01.02.2020|BARC|24141801  |72931     |        62.000,000 |C    |\n",
      "|01.02.2020|BARC|22149801  |1033260   |         5.000,000 |V    |\n",
      "|01.02.2020|BARC|24144801  |1033260   |        25.000,000 |V    |\n",
      "|01.02.2020|BARC|24314801  |1033260   |        25.000,000 |V    |\n",
      "|01.02.2020|BARC|24144801  |1033259   |         5.000,000 |V    |\n",
      "|01.02.2020|BARC|24314801  |1033259   |        35.000,000 |V    |\n",
      "|01.02.2020|BARC|24319801  |72931     |        62.000,000 |C    |\n",
      "|01.02.2020|BARC|24141801  |72931     |        60.000,000 |C    |\n",
      "|01.02.2020|BARC|22149801  |114871    |        10.000,000 |V    |\n",
      "|01.02.2020|BARC|22149801  |1032606   |        10.000,000 |V    |\n",
      "|01.02.2020|BARC|22149801  |1032633   |        10.000,000 |V    |\n",
      "|02.02.2020|BARC|24144801  |1033260   |        30.000,000 |V    |\n",
      "|02.02.2020|BARC|24314801  |1033260   |        25.000,000 |V    |\n",
      "|03.02.2020|BARC|24141801  |72931     |        60.000,000 |C    |\n",
      "+----------+----+----------+----------+-------------------+-----+\n",
      "only showing top 20 rows\n",
      "\n"
     ]
    }
   ],
   "source": [
    "df_mes.show()"
   ]
  },
  {
   "cell_type": "code",
   "execution_count": 12,
   "metadata": {},
   "outputs": [],
   "source": [
    "schema_mes = StructType([\n",
    "        StructField('_c0', StringType(), True),\n",
    "        StructField('Empr', StringType(), True),\n",
    "        StructField('Cent', StringType(), True),\n",
    "        StructField('Nota Fiscal', StringType(), True),\n",
    "        StructField('Data Saida', StringType(), True),\n",
    "        StructField('Data Criacao', StringType(), True),\n",
    "        StructField('UF', StringType(), True),\n",
    "        StructField('Faturamento', StringType(), True),\n",
    "        StructField('Itm', StringType(), True),\n",
    "        StructField('Vencimento', StringType(), True),\n",
    "        StructField('TpOV', StringType(), True),\n",
    "        StructField('Ordem Vendas', StringType(), True),\n",
    "        StructField('IBM', StringType(), True),\n",
    "        StructField('Razao Social', StringType(), True),\n",
    "        StructField('Canal', StringType(), True),\n",
    "        StructField('Material', StringType(), True),\n",
    "        StructField('Descricao', StringType(), True),\n",
    "        StructField(' Quantidade', StringType(), True),\n",
    "        StructField('UM', StringType(), True),\n",
    "        StructField('Cond.Pgto', StringType(), True),\n",
    "        StructField('Inco', StringType(), True),\n",
    "        StructField('C.Exp', StringType(), True),\n",
    "        StructField('Valor item', StringType(), True),\n",
    "        StructField('Valor ZPFL', StringType(), True),\n",
    "        StructField('Valor ZPFN', StringType(), True),\n",
    "        StructField('Valor ZENC', StringType(), True),\n",
    "        StructField('Imposto', StringType(), True),\n",
    "        StructField('Valor ZDB1', StringType(), True),\n",
    "        StructField('Target Block', StringType(), True),\n",
    "        StructField('UN', StringType(), True),\n",
    "        StructField('Valor ZDDB', StringType(), True),\n",
    "        StructField('Valor ZDIA', StringType(), True),\n",
    "        StructField('Valor ZDFR', StringType(), True),\n",
    "        StructField('Valor ICM3', StringType(), True),\n",
    "        StructField('Valor ICS3', StringType(), True),\n",
    "        StructField('Rep.Vendas', StringType(), True),\n",
    "        StructField('Acesso ZPFL', StringType(), True),\n",
    "        StructField('Volume', StringType(), True),\n",
    "        StructField('UN_', StringType(), True),\n",
    "        StructField('Hora Fat', StringType(), True),\n",
    "        StructField('Referência', StringType(), True),\n",
    "    ])"
   ]
  },
  {
   "cell_type": "code",
   "execution_count": 82,
   "metadata": {},
   "outputs": [],
   "source": [
    "schema = StructType([\n",
    "        StructField('Empr', StringType(), True),\n",
    "        StructField('_c1', StringType(), True),\n",
    "        StructField('Cent', StringType(), True),\n",
    "        StructField('Nota Fiscal', StringType(), True),\n",
    "        StructField('Data Saida', StringType(), True),\n",
    "        StructField('Data Criacao', StringType(), True),\n",
    "        StructField('UF', StringType(), True),\n",
    "        StructField('Faturamento', StringType(), True),\n",
    "        StructField('Itm', StringType(), True),\n",
    "        StructField('Vencimento', StringType(), True),\n",
    "        StructField('TpOV', StringType(), True),\n",
    "        StructField('Ordem Vendas', StringType(), True),\n",
    "        StructField('IBM', StringType(), True),\n",
    "        StructField('Razao Social', StringType(), True),\n",
    "        StructField('Canal', StringType(), True),\n",
    "        StructField('Material', StringType(), True),\n",
    "        StructField('Descricao', StringType(), True),\n",
    "        StructField(' Quantidade', StringType(), True),\n",
    "        StructField('UM', StringType(), True),\n",
    "        StructField('Cond.Pgto', StringType(), True),\n",
    "        StructField('Inco', StringType(), True),\n",
    "        StructField('C.Exp', StringType(), True),\n",
    "        StructField('Valor item', StringType(), True),\n",
    "        StructField('Valor ZPFL', StringType(), True),\n",
    "        StructField('Valor ZPFN', StringType(), True),\n",
    "        StructField('Valor ZENC', StringType(), True),\n",
    "        StructField('Imposto', StringType(), True),\n",
    "        StructField('Valor ZDB1', StringType(), True),\n",
    "        StructField('Target Block', StringType(), True),\n",
    "        StructField('UN', StringType(), True),\n",
    "        StructField('Valor ZDDB', StringType(), True),\n",
    "        StructField('Valor ZDIA', StringType(), True),\n",
    "        StructField('Valor ZDFR', StringType(), True),\n",
    "        StructField('Valor ICM3', StringType(), True),\n",
    "        StructField('Valor ICS3', StringType(), True),\n",
    "        StructField('Rep.Vendas', StringType(), True),\n",
    "        StructField('Acesso ZPFL', StringType(), True),\n",
    "        StructField('Volume', StringType(), True),\n",
    "        StructField('UN_', StringType(), True),\n",
    "        StructField('Hora Fat', StringType(), True),\n",
    "        StructField('Referência', StringType(), True),\n",
    "    ])"
   ]
  },
  {
   "cell_type": "code",
   "execution_count": 47,
   "metadata": {},
   "outputs": [],
   "source": [
    "df_dia = spark.read.format('csv').option('sep',';').schema(schema).load('adl://raizenprd01.azuredatalakestore.net/ldt_dev/sandbox/previsao_demanda/01_raw/vendas_dia_complemento/dia').where(\"Empr is not null and Empr <> 'Empr' \").select('Data Saida','Cent','Material','IBM','Volume','Canal')"
   ]
  },
  {
   "cell_type": "code",
   "execution_count": 48,
   "metadata": {},
   "outputs": [
    {
     "name": "stdout",
     "output_type": "stream",
     "text": [
      "+----------+----+--------+-------+---------+--------+\n",
      "|Data Saida|Cent|Material|    IBM|   Volume|Segmento|\n",
      "+----------+----+--------+-------+---------+--------+\n",
      "|09.04.2020|BARC|22149801| 121410|10.000,00|       V|\n",
      "|09.04.2020|BARC|22149801|1032445| 5.000,00|       V|\n",
      "|09.04.2020|BARC|22150801|1032445| 5.000,00|       V|\n",
      "|09.04.2020|BARC|24314801|1032445| 5.000,00|       V|\n",
      "|09.04.2020|BARC|22149801|1046858|10.000,00|       V|\n",
      "+----------+----+--------+-------+---------+--------+\n",
      "only showing top 5 rows\n",
      "\n"
     ]
    }
   ],
   "source": [
    "df_dia = df_dia.withColumnRenamed('Canal','Segmento')\n",
    "df_dia.show(5)"
   ]
  },
  {
   "cell_type": "code",
   "execution_count": 49,
   "metadata": {},
   "outputs": [],
   "source": [
    "df_dia = df_dia.withColumn('Volume', regexp_replace(\"Volume\", '\\.', '')) \\\n",
    "        .withColumn('Volume', regexp_replace(\"Volume\", ',', '.').cast(\"double\")) \\\n",
    "        .withColumn(\"data_saida\", F.to_date(F.col(\"Data Saida\"), \"dd.MM.yyyy\")).drop(\"Data Saida\")"
   ]
  },
  {
   "cell_type": "code",
   "execution_count": 71,
   "metadata": {},
   "outputs": [
    {
     "ename": "AnalysisException",
     "evalue": "'Detected implicit cartesian product for FULL OUTER join between logical plans\\nJoin Inner\\n:- Project [Cent#1605, Material#1619, IBM#1615, cast(regexp_replace(regexp_replace(Volume#1641, \\\\., ), ,, .) as double) AS Volume#1700, Canal#1617, cast(cast(unix_timestamp(Data Saida#1607, dd.MM.yyyy, Some(Etc/UTC)) as timestamp) as date) AS data_saida#1707]\\n:  +- Filter (isnotnull(Empr#1603) && NOT (Empr#1603 = Empr))\\n:     +- Relation[Empr#1603,_c1#1604,Cent#1605,Nota Fiscal#1606,Data Saida#1607,Data Criacao#1608,UF#1609,Faturamento#1610,Itm#1611,Vencimento#1612,TpOV#1613,Ordem Vendas#1614,IBM#1615,Razao Social#1616,Canal#1617,_c15#1618,Material#1619,Descricao#1620, Quantidade#1621,UM#1622,Cond.Pgto#1623,Inco#1624,C.Exp#1625,Valor item#1626,... 18 more fields] csv\\n+- Relation[Date#1733,Base#1734,SKU#1735,IBM#1736,Volume#1737,Segmento#1738] parquet\\nand\\nRelation[Date#2131,Base#2132,SKU#2133,IBM#2134,Volume#2135,Segmento#2136] parquet\\nJoin condition is missing or trivial.\\nEither: use the CROSS JOIN syntax to allow cartesian products between these\\nrelations, or: enable implicit cartesian products by setting the configuration\\nvariable spark.sql.crossJoin.enabled=true;'",
     "output_type": "error",
     "traceback": [
      "\u001b[0;31m---------------------------------------------------------------------------\u001b[0m",
      "\u001b[0;31mPy4JJavaError\u001b[0m                             Traceback (most recent call last)",
      "\u001b[0;32m/opt/spark/python/pyspark/sql/utils.py\u001b[0m in \u001b[0;36mdeco\u001b[0;34m(*a, **kw)\u001b[0m\n\u001b[1;32m     62\u001b[0m         \u001b[0;32mtry\u001b[0m\u001b[0;34m:\u001b[0m\u001b[0;34m\u001b[0m\u001b[0;34m\u001b[0m\u001b[0m\n\u001b[0;32m---> 63\u001b[0;31m             \u001b[0;32mreturn\u001b[0m \u001b[0mf\u001b[0m\u001b[0;34m(\u001b[0m\u001b[0;34m*\u001b[0m\u001b[0ma\u001b[0m\u001b[0;34m,\u001b[0m \u001b[0;34m**\u001b[0m\u001b[0mkw\u001b[0m\u001b[0;34m)\u001b[0m\u001b[0;34m\u001b[0m\u001b[0;34m\u001b[0m\u001b[0m\n\u001b[0m\u001b[1;32m     64\u001b[0m         \u001b[0;32mexcept\u001b[0m \u001b[0mpy4j\u001b[0m\u001b[0;34m.\u001b[0m\u001b[0mprotocol\u001b[0m\u001b[0;34m.\u001b[0m\u001b[0mPy4JJavaError\u001b[0m \u001b[0;32mas\u001b[0m \u001b[0me\u001b[0m\u001b[0;34m:\u001b[0m\u001b[0;34m\u001b[0m\u001b[0;34m\u001b[0m\u001b[0m\n",
      "\u001b[0;32m/opt/spark/python/lib/py4j-0.10.7-src.zip/py4j/protocol.py\u001b[0m in \u001b[0;36mget_return_value\u001b[0;34m(answer, gateway_client, target_id, name)\u001b[0m\n\u001b[1;32m    327\u001b[0m                     \u001b[0;34m\"An error occurred while calling {0}{1}{2}.\\n\"\u001b[0m\u001b[0;34m.\u001b[0m\u001b[0;34m\u001b[0m\u001b[0;34m\u001b[0m\u001b[0m\n\u001b[0;32m--> 328\u001b[0;31m                     format(target_id, \".\", name), value)\n\u001b[0m\u001b[1;32m    329\u001b[0m             \u001b[0;32melse\u001b[0m\u001b[0;34m:\u001b[0m\u001b[0;34m\u001b[0m\u001b[0;34m\u001b[0m\u001b[0m\n",
      "\u001b[0;31mPy4JJavaError\u001b[0m: An error occurred while calling o1917.showString.\n: org.apache.spark.sql.AnalysisException: Detected implicit cartesian product for FULL OUTER join between logical plans\nJoin Inner\n:- Project [Cent#1605, Material#1619, IBM#1615, cast(regexp_replace(regexp_replace(Volume#1641, \\., ), ,, .) as double) AS Volume#1700, Canal#1617, cast(cast(unix_timestamp(Data Saida#1607, dd.MM.yyyy, Some(Etc/UTC)) as timestamp) as date) AS data_saida#1707]\n:  +- Filter (isnotnull(Empr#1603) && NOT (Empr#1603 = Empr))\n:     +- Relation[Empr#1603,_c1#1604,Cent#1605,Nota Fiscal#1606,Data Saida#1607,Data Criacao#1608,UF#1609,Faturamento#1610,Itm#1611,Vencimento#1612,TpOV#1613,Ordem Vendas#1614,IBM#1615,Razao Social#1616,Canal#1617,_c15#1618,Material#1619,Descricao#1620, Quantidade#1621,UM#1622,Cond.Pgto#1623,Inco#1624,C.Exp#1625,Valor item#1626,... 18 more fields] csv\n+- Relation[Date#1733,Base#1734,SKU#1735,IBM#1736,Volume#1737,Segmento#1738] parquet\nand\nRelation[Date#2131,Base#2132,SKU#2133,IBM#2134,Volume#2135,Segmento#2136] parquet\nJoin condition is missing or trivial.\nEither: use the CROSS JOIN syntax to allow cartesian products between these\nrelations, or: enable implicit cartesian products by setting the configuration\nvariable spark.sql.crossJoin.enabled=true;\n\tat org.apache.spark.sql.catalyst.optimizer.CheckCartesianProducts$$anonfun$apply$18.applyOrElse(Optimizer.scala:1295)\n\tat org.apache.spark.sql.catalyst.optimizer.CheckCartesianProducts$$anonfun$apply$18.applyOrElse(Optimizer.scala:1292)\n\tat org.apache.spark.sql.catalyst.trees.TreeNode.$anonfun$transformDown$1(TreeNode.scala:256)\n\tat org.apache.spark.sql.catalyst.trees.CurrentOrigin$.withOrigin(TreeNode.scala:70)\n\tat org.apache.spark.sql.catalyst.trees.TreeNode.transformDown(TreeNode.scala:256)\n\tat org.apache.spark.sql.catalyst.plans.logical.LogicalPlan.org$apache$spark$sql$catalyst$plans$logical$AnalysisHelper$$super$transformDown(LogicalPlan.scala:29)\n\tat org.apache.spark.sql.catalyst.plans.logical.AnalysisHelper.transformDown(AnalysisHelper.scala:149)\n\tat org.apache.spark.sql.catalyst.plans.logical.AnalysisHelper.transformDown$(AnalysisHelper.scala:147)\n\tat org.apache.spark.sql.catalyst.plans.logical.LogicalPlan.transformDown(LogicalPlan.scala:29)\n\tat org.apache.spark.sql.catalyst.plans.logical.LogicalPlan.transformDown(LogicalPlan.scala:29)\n\tat org.apache.spark.sql.catalyst.trees.TreeNode.$anonfun$transformDown$3(TreeNode.scala:261)\n\tat org.apache.spark.sql.catalyst.trees.TreeNode.$anonfun$mapChildren$1(TreeNode.scala:326)\n\tat org.apache.spark.sql.catalyst.trees.TreeNode.mapProductIterator(TreeNode.scala:187)\n\tat org.apache.spark.sql.catalyst.trees.TreeNode.mapChildren(TreeNode.scala:324)\n\tat org.apache.spark.sql.catalyst.trees.TreeNode.transformDown(TreeNode.scala:261)\n\tat org.apache.spark.sql.catalyst.plans.logical.LogicalPlan.org$apache$spark$sql$catalyst$plans$logical$AnalysisHelper$$super$transformDown(LogicalPlan.scala:29)\n\tat org.apache.spark.sql.catalyst.plans.logical.AnalysisHelper.transformDown(AnalysisHelper.scala:149)\n\tat org.apache.spark.sql.catalyst.plans.logical.AnalysisHelper.transformDown$(AnalysisHelper.scala:147)\n\tat org.apache.spark.sql.catalyst.plans.logical.LogicalPlan.transformDown(LogicalPlan.scala:29)\n\tat org.apache.spark.sql.catalyst.plans.logical.LogicalPlan.transformDown(LogicalPlan.scala:29)\n\tat org.apache.spark.sql.catalyst.trees.TreeNode.$anonfun$transformDown$3(TreeNode.scala:261)\n\tat org.apache.spark.sql.catalyst.trees.TreeNode.$anonfun$mapChildren$1(TreeNode.scala:326)\n\tat org.apache.spark.sql.catalyst.trees.TreeNode.mapProductIterator(TreeNode.scala:187)\n\tat org.apache.spark.sql.catalyst.trees.TreeNode.mapChildren(TreeNode.scala:324)\n\tat org.apache.spark.sql.catalyst.trees.TreeNode.transformDown(TreeNode.scala:261)\n\tat org.apache.spark.sql.catalyst.plans.logical.LogicalPlan.org$apache$spark$sql$catalyst$plans$logical$AnalysisHelper$$super$transformDown(LogicalPlan.scala:29)\n\tat org.apache.spark.sql.catalyst.plans.logical.AnalysisHelper.transformDown(AnalysisHelper.scala:149)\n\tat org.apache.spark.sql.catalyst.plans.logical.AnalysisHelper.transformDown$(AnalysisHelper.scala:147)\n\tat org.apache.spark.sql.catalyst.plans.logical.LogicalPlan.transformDown(LogicalPlan.scala:29)\n\tat org.apache.spark.sql.catalyst.plans.logical.LogicalPlan.transformDown(LogicalPlan.scala:29)\n\tat org.apache.spark.sql.catalyst.trees.TreeNode.$anonfun$transformDown$3(TreeNode.scala:261)\n\tat org.apache.spark.sql.catalyst.trees.TreeNode.$anonfun$mapChildren$1(TreeNode.scala:326)\n\tat org.apache.spark.sql.catalyst.trees.TreeNode.mapProductIterator(TreeNode.scala:187)\n\tat org.apache.spark.sql.catalyst.trees.TreeNode.mapChildren(TreeNode.scala:324)\n\tat org.apache.spark.sql.catalyst.trees.TreeNode.transformDown(TreeNode.scala:261)\n\tat org.apache.spark.sql.catalyst.plans.logical.LogicalPlan.org$apache$spark$sql$catalyst$plans$logical$AnalysisHelper$$super$transformDown(LogicalPlan.scala:29)\n\tat org.apache.spark.sql.catalyst.plans.logical.AnalysisHelper.transformDown(AnalysisHelper.scala:149)\n\tat org.apache.spark.sql.catalyst.plans.logical.AnalysisHelper.transformDown$(AnalysisHelper.scala:147)\n\tat org.apache.spark.sql.catalyst.plans.logical.LogicalPlan.transformDown(LogicalPlan.scala:29)\n\tat org.apache.spark.sql.catalyst.plans.logical.LogicalPlan.transformDown(LogicalPlan.scala:29)\n\tat org.apache.spark.sql.catalyst.trees.TreeNode.transform(TreeNode.scala:245)\n\tat org.apache.spark.sql.catalyst.optimizer.CheckCartesianProducts$.apply(Optimizer.scala:1292)\n\tat org.apache.spark.sql.catalyst.optimizer.CheckCartesianProducts$.apply(Optimizer.scala:1274)\n\tat org.apache.spark.sql.catalyst.rules.RuleExecutor.$anonfun$execute$2(RuleExecutor.scala:87)\n\tat scala.collection.IndexedSeqOptimized.foldLeft(IndexedSeqOptimized.scala:60)\n\tat scala.collection.IndexedSeqOptimized.foldLeft$(IndexedSeqOptimized.scala:68)\n\tat scala.collection.mutable.WrappedArray.foldLeft(WrappedArray.scala:39)\n\tat org.apache.spark.sql.catalyst.rules.RuleExecutor.$anonfun$execute$1(RuleExecutor.scala:84)\n\tat org.apache.spark.sql.catalyst.rules.RuleExecutor.$anonfun$execute$1$adapted(RuleExecutor.scala:76)\n\tat scala.collection.immutable.List.foreach(List.scala:392)\n\tat org.apache.spark.sql.catalyst.rules.RuleExecutor.execute(RuleExecutor.scala:76)\n\tat org.apache.spark.sql.execution.QueryExecution.optimizedPlan$lzycompute(QueryExecution.scala:66)\n\tat org.apache.spark.sql.execution.QueryExecution.optimizedPlan(QueryExecution.scala:66)\n\tat org.apache.spark.sql.execution.QueryExecution.sparkPlan$lzycompute(QueryExecution.scala:72)\n\tat org.apache.spark.sql.execution.QueryExecution.sparkPlan(QueryExecution.scala:68)\n\tat org.apache.spark.sql.execution.QueryExecution.executedPlan$lzycompute(QueryExecution.scala:77)\n\tat org.apache.spark.sql.execution.QueryExecution.executedPlan(QueryExecution.scala:77)\n\tat org.apache.spark.sql.Dataset.withAction(Dataset.scala:3359)\n\tat org.apache.spark.sql.Dataset.head(Dataset.scala:2544)\n\tat org.apache.spark.sql.Dataset.take(Dataset.scala:2758)\n\tat org.apache.spark.sql.Dataset.getRows(Dataset.scala:254)\n\tat org.apache.spark.sql.Dataset.showString(Dataset.scala:291)\n\tat jdk.internal.reflect.GeneratedMethodAccessor60.invoke(Unknown Source)\n\tat java.base/jdk.internal.reflect.DelegatingMethodAccessorImpl.invoke(DelegatingMethodAccessorImpl.java:43)\n\tat java.base/java.lang.reflect.Method.invoke(Method.java:566)\n\tat py4j.reflection.MethodInvoker.invoke(MethodInvoker.java:244)\n\tat py4j.reflection.ReflectionEngine.invoke(ReflectionEngine.java:357)\n\tat py4j.Gateway.invoke(Gateway.java:282)\n\tat py4j.commands.AbstractCommand.invokeMethod(AbstractCommand.java:132)\n\tat py4j.commands.CallCommand.execute(CallCommand.java:79)\n\tat py4j.GatewayConnection.run(GatewayConnection.java:238)\n\tat java.base/java.lang.Thread.run(Thread.java:834)\n",
      "\nDuring handling of the above exception, another exception occurred:\n",
      "\u001b[0;31mAnalysisException\u001b[0m                         Traceback (most recent call last)",
      "\u001b[0;32m<ipython-input-71-f2f420e3b4f5>\u001b[0m in \u001b[0;36m<module>\u001b[0;34m\u001b[0m\n\u001b[1;32m      1\u001b[0m \u001b[0mdf_diajoin\u001b[0m \u001b[0;34m=\u001b[0m \u001b[0mdf_dia\u001b[0m\u001b[0;34m.\u001b[0m\u001b[0mjoin\u001b[0m\u001b[0;34m(\u001b[0m\u001b[0mdf_vendas_dia\u001b[0m\u001b[0;34m,\u001b[0m \u001b[0mhow\u001b[0m\u001b[0;34m=\u001b[0m\u001b[0;34m'outer'\u001b[0m\u001b[0;34m)\u001b[0m\u001b[0;34m\u001b[0m\u001b[0;34m\u001b[0m\u001b[0m\n\u001b[1;32m      2\u001b[0m \u001b[0;34m\u001b[0m\u001b[0m\n\u001b[0;32m----> 3\u001b[0;31m \u001b[0mdf_diajoin\u001b[0m\u001b[0;34m.\u001b[0m\u001b[0mshow\u001b[0m\u001b[0;34m(\u001b[0m\u001b[0;34m)\u001b[0m\u001b[0;34m\u001b[0m\u001b[0;34m\u001b[0m\u001b[0m\n\u001b[0m",
      "\u001b[0;32m/opt/spark/python/pyspark/sql/dataframe.py\u001b[0m in \u001b[0;36mshow\u001b[0;34m(self, n, truncate, vertical)\u001b[0m\n\u001b[1;32m    376\u001b[0m         \"\"\"\n\u001b[1;32m    377\u001b[0m         \u001b[0;32mif\u001b[0m \u001b[0misinstance\u001b[0m\u001b[0;34m(\u001b[0m\u001b[0mtruncate\u001b[0m\u001b[0;34m,\u001b[0m \u001b[0mbool\u001b[0m\u001b[0;34m)\u001b[0m \u001b[0;32mand\u001b[0m \u001b[0mtruncate\u001b[0m\u001b[0;34m:\u001b[0m\u001b[0;34m\u001b[0m\u001b[0;34m\u001b[0m\u001b[0m\n\u001b[0;32m--> 378\u001b[0;31m             \u001b[0mprint\u001b[0m\u001b[0;34m(\u001b[0m\u001b[0mself\u001b[0m\u001b[0;34m.\u001b[0m\u001b[0m_jdf\u001b[0m\u001b[0;34m.\u001b[0m\u001b[0mshowString\u001b[0m\u001b[0;34m(\u001b[0m\u001b[0mn\u001b[0m\u001b[0;34m,\u001b[0m \u001b[0;36m20\u001b[0m\u001b[0;34m,\u001b[0m \u001b[0mvertical\u001b[0m\u001b[0;34m)\u001b[0m\u001b[0;34m)\u001b[0m\u001b[0;34m\u001b[0m\u001b[0;34m\u001b[0m\u001b[0m\n\u001b[0m\u001b[1;32m    379\u001b[0m         \u001b[0;32melse\u001b[0m\u001b[0;34m:\u001b[0m\u001b[0;34m\u001b[0m\u001b[0;34m\u001b[0m\u001b[0m\n\u001b[1;32m    380\u001b[0m             \u001b[0mprint\u001b[0m\u001b[0;34m(\u001b[0m\u001b[0mself\u001b[0m\u001b[0;34m.\u001b[0m\u001b[0m_jdf\u001b[0m\u001b[0;34m.\u001b[0m\u001b[0mshowString\u001b[0m\u001b[0;34m(\u001b[0m\u001b[0mn\u001b[0m\u001b[0;34m,\u001b[0m \u001b[0mint\u001b[0m\u001b[0;34m(\u001b[0m\u001b[0mtruncate\u001b[0m\u001b[0;34m)\u001b[0m\u001b[0;34m,\u001b[0m \u001b[0mvertical\u001b[0m\u001b[0;34m)\u001b[0m\u001b[0;34m)\u001b[0m\u001b[0;34m\u001b[0m\u001b[0;34m\u001b[0m\u001b[0m\n",
      "\u001b[0;32m/opt/spark/python/lib/py4j-0.10.7-src.zip/py4j/java_gateway.py\u001b[0m in \u001b[0;36m__call__\u001b[0;34m(self, *args)\u001b[0m\n\u001b[1;32m   1255\u001b[0m         \u001b[0manswer\u001b[0m \u001b[0;34m=\u001b[0m \u001b[0mself\u001b[0m\u001b[0;34m.\u001b[0m\u001b[0mgateway_client\u001b[0m\u001b[0;34m.\u001b[0m\u001b[0msend_command\u001b[0m\u001b[0;34m(\u001b[0m\u001b[0mcommand\u001b[0m\u001b[0;34m)\u001b[0m\u001b[0;34m\u001b[0m\u001b[0;34m\u001b[0m\u001b[0m\n\u001b[1;32m   1256\u001b[0m         return_value = get_return_value(\n\u001b[0;32m-> 1257\u001b[0;31m             answer, self.gateway_client, self.target_id, self.name)\n\u001b[0m\u001b[1;32m   1258\u001b[0m \u001b[0;34m\u001b[0m\u001b[0m\n\u001b[1;32m   1259\u001b[0m         \u001b[0;32mfor\u001b[0m \u001b[0mtemp_arg\u001b[0m \u001b[0;32min\u001b[0m \u001b[0mtemp_args\u001b[0m\u001b[0;34m:\u001b[0m\u001b[0;34m\u001b[0m\u001b[0;34m\u001b[0m\u001b[0m\n",
      "\u001b[0;32m/opt/spark/python/pyspark/sql/utils.py\u001b[0m in \u001b[0;36mdeco\u001b[0;34m(*a, **kw)\u001b[0m\n\u001b[1;32m     67\u001b[0m                                              e.java_exception.getStackTrace()))\n\u001b[1;32m     68\u001b[0m             \u001b[0;32mif\u001b[0m \u001b[0ms\u001b[0m\u001b[0;34m.\u001b[0m\u001b[0mstartswith\u001b[0m\u001b[0;34m(\u001b[0m\u001b[0;34m'org.apache.spark.sql.AnalysisException: '\u001b[0m\u001b[0;34m)\u001b[0m\u001b[0;34m:\u001b[0m\u001b[0;34m\u001b[0m\u001b[0;34m\u001b[0m\u001b[0m\n\u001b[0;32m---> 69\u001b[0;31m                 \u001b[0;32mraise\u001b[0m \u001b[0mAnalysisException\u001b[0m\u001b[0;34m(\u001b[0m\u001b[0ms\u001b[0m\u001b[0;34m.\u001b[0m\u001b[0msplit\u001b[0m\u001b[0;34m(\u001b[0m\u001b[0;34m': '\u001b[0m\u001b[0;34m,\u001b[0m \u001b[0;36m1\u001b[0m\u001b[0;34m)\u001b[0m\u001b[0;34m[\u001b[0m\u001b[0;36m1\u001b[0m\u001b[0;34m]\u001b[0m\u001b[0;34m,\u001b[0m \u001b[0mstackTrace\u001b[0m\u001b[0;34m)\u001b[0m\u001b[0;34m\u001b[0m\u001b[0;34m\u001b[0m\u001b[0m\n\u001b[0m\u001b[1;32m     70\u001b[0m             \u001b[0;32mif\u001b[0m \u001b[0ms\u001b[0m\u001b[0;34m.\u001b[0m\u001b[0mstartswith\u001b[0m\u001b[0;34m(\u001b[0m\u001b[0;34m'org.apache.spark.sql.catalyst.analysis'\u001b[0m\u001b[0;34m)\u001b[0m\u001b[0;34m:\u001b[0m\u001b[0;34m\u001b[0m\u001b[0;34m\u001b[0m\u001b[0m\n\u001b[1;32m     71\u001b[0m                 \u001b[0;32mraise\u001b[0m \u001b[0mAnalysisException\u001b[0m\u001b[0;34m(\u001b[0m\u001b[0ms\u001b[0m\u001b[0;34m.\u001b[0m\u001b[0msplit\u001b[0m\u001b[0;34m(\u001b[0m\u001b[0;34m': '\u001b[0m\u001b[0;34m,\u001b[0m \u001b[0;36m1\u001b[0m\u001b[0;34m)\u001b[0m\u001b[0;34m[\u001b[0m\u001b[0;36m1\u001b[0m\u001b[0;34m]\u001b[0m\u001b[0;34m,\u001b[0m \u001b[0mstackTrace\u001b[0m\u001b[0;34m)\u001b[0m\u001b[0;34m\u001b[0m\u001b[0;34m\u001b[0m\u001b[0m\n",
      "\u001b[0;31mAnalysisException\u001b[0m: 'Detected implicit cartesian product for FULL OUTER join between logical plans\\nJoin Inner\\n:- Project [Cent#1605, Material#1619, IBM#1615, cast(regexp_replace(regexp_replace(Volume#1641, \\\\., ), ,, .) as double) AS Volume#1700, Canal#1617, cast(cast(unix_timestamp(Data Saida#1607, dd.MM.yyyy, Some(Etc/UTC)) as timestamp) as date) AS data_saida#1707]\\n:  +- Filter (isnotnull(Empr#1603) && NOT (Empr#1603 = Empr))\\n:     +- Relation[Empr#1603,_c1#1604,Cent#1605,Nota Fiscal#1606,Data Saida#1607,Data Criacao#1608,UF#1609,Faturamento#1610,Itm#1611,Vencimento#1612,TpOV#1613,Ordem Vendas#1614,IBM#1615,Razao Social#1616,Canal#1617,_c15#1618,Material#1619,Descricao#1620, Quantidade#1621,UM#1622,Cond.Pgto#1623,Inco#1624,C.Exp#1625,Valor item#1626,... 18 more fields] csv\\n+- Relation[Date#1733,Base#1734,SKU#1735,IBM#1736,Volume#1737,Segmento#1738] parquet\\nand\\nRelation[Date#2131,Base#2132,SKU#2133,IBM#2134,Volume#2135,Segmento#2136] parquet\\nJoin condition is missing or trivial.\\nEither: use the CROSS JOIN syntax to allow cartesian products between these\\nrelations, or: enable implicit cartesian products by setting the configuration\\nvariable spark.sql.crossJoin.enabled=true;'"
     ]
    }
   ],
   "source": [
    "df_diajoin = df_dia.join(df_vendas_dia, how='outer')\n",
    "\n",
    "df_diajoin.show()"
   ]
  },
  {
   "cell_type": "code",
   "execution_count": 54,
   "metadata": {},
   "outputs": [
    {
     "name": "stdout",
     "output_type": "stream",
     "text": [
      "+----+--------+-------+-------+--------+----------+\n",
      "|Cent|Material|    IBM| Volume|Segmento|data_saida|\n",
      "+----+--------+-------+-------+--------+----------+\n",
      "|BARC|22149801| 121410|10000.0|       V|2020-04-09|\n",
      "|BARC|22149801|1032445| 5000.0|       V|2020-04-09|\n",
      "|BARC|22150801|1032445| 5000.0|       V|2020-04-09|\n",
      "|BARC|24314801|1032445| 5000.0|       V|2020-04-09|\n",
      "|BARC|22149801|1046858|10000.0|       V|2020-04-09|\n",
      "|BARC|24144801|1053586| 5000.0|       V|2020-04-09|\n",
      "|BARC|24314801|1053586|40000.0|       V|2020-04-09|\n",
      "|BARC|22149801|  33715| 5000.0|       V|2020-04-09|\n",
      "|BARC|22150801|  33715| 5000.0|       V|2020-04-09|\n",
      "|BARC|24144801|  33715| 5000.0|       V|2020-04-09|\n",
      "|BARC|22149801| 120570|10000.0|       V|2020-04-09|\n",
      "|BARC|22150801| 120570| 5000.0|       V|2020-04-09|\n",
      "|BARC|22149801|1033260| 5000.0|       V|2020-04-09|\n",
      "|BARC|24144801|1033260|25000.0|       V|2020-04-09|\n",
      "|BARC|24314801|1033260|25000.0|       V|2020-04-09|\n",
      "|BARC|22150801|1032436| 5000.0|       V|2020-04-09|\n",
      "|BARC|24144801|1032436| 7000.0|       V|2020-04-09|\n",
      "|BARC|24314801|1032436| 5000.0|       V|2020-04-09|\n",
      "|BARC|24144801|1033259|15000.0|       V|2020-04-09|\n",
      "|BARC|24314801|1033259|25000.0|       V|2020-04-09|\n",
      "+----+--------+-------+-------+--------+----------+\n",
      "only showing top 20 rows\n",
      "\n",
      "+-------------------+----+--------+-------+--------+--------+\n",
      "|               Date|Base|     SKU|    IBM|  Volume|Segmento|\n",
      "+-------------------+----+--------+-------+--------+--------+\n",
      "|2018-05-23 00:00:00|APVE|15521801|1004717|   300.0|       A|\n",
      "|2018-05-23 00:00:00|APVE|15521801|1010270|  1929.0|       A|\n",
      "|2018-05-23 00:00:00|ARBR|15521801|1010270|   324.0|       A|\n",
      "|2018-05-23 00:00:00|ARBR|15521801|1014172| 19949.0|       A|\n",
      "|2018-05-23 00:00:00|AREC|15509801|1011068|  1000.0|       A|\n",
      "|2018-05-23 00:00:00|AREC|15521801|1004717|  2369.0|       A|\n",
      "|2018-05-23 00:00:00|AREC|15521801|1015340|   782.0|       A|\n",
      "|2018-05-23 00:00:00|AREC|15521801|1046955|  1316.0|       A|\n",
      "|2018-05-23 00:00:00|AREC|15521801|1054495| 21551.0|       A|\n",
      "|2018-05-23 00:00:00|AREC|15522801|1030112| 17062.0|       A|\n",
      "|2018-05-23 00:00:00|AREC|15526801| 980432| 37585.0|       A|\n",
      "|2018-05-23 00:00:00|AREC|15532801|1044607| 34189.0|       A|\n",
      "|2018-05-23 00:00:00|ASAN|15521801|1004717|  1000.0|       A|\n",
      "|2018-05-23 00:00:00|ASAN|15521801|1013551|  1654.0|       A|\n",
      "|2018-05-23 00:00:00|ASAN|15521801|1048666|   264.0|       A|\n",
      "|2018-05-23 00:00:00|ASAN|15526801|1007593|  7399.0|       A|\n",
      "|2018-05-23 00:00:00|ASAN|15526801|1041489|  3727.0|       A|\n",
      "|2018-05-23 00:00:00|ASDU|15521801| 725641|   400.0|       A|\n",
      "|2018-05-23 00:00:00|ASDU|15521801| 980434|110954.0|       A|\n",
      "|2018-05-23 00:00:00|ASDU|15521801|1016295|   737.0|       A|\n",
      "+-------------------+----+--------+-------+--------+--------+\n",
      "only showing top 20 rows\n",
      "\n"
     ]
    }
   ],
   "source": [
    "df_dia.show()\n",
    "df_vendas_dia.show()"
   ]
  },
  {
   "cell_type": "code",
   "execution_count": 94,
   "metadata": {},
   "outputs": [
    {
     "name": "stdout",
     "output_type": "stream",
     "text": [
      "+----+--------+---+------+--------+----------+----+----+---+---+------+--------+\n",
      "|Cent|Material|IBM|Volume|Segmento|data_saida|Date|Base|SKU|IBM|Volume|Segmento|\n",
      "+----+--------+---+------+--------+----------+----+----+---+---+------+--------+\n",
      "+----+--------+---+------+--------+----------+----+----+---+---+------+--------+\n",
      "\n"
     ]
    }
   ],
   "source": [
    "df_dia.alias(\"a\").join(df_vendas_dia.alias(\"b\"), F.col(\"a.data_saida\") == F.col(\"b.Date\").cast(\"date\")).show()\n",
    "\n",
    "#df_dia.agg(F.min(F.col(\"data_saida\")), F.max(F.col(\"data_saida\"))).show()\n",
    "#df_vendas_dia.withColumn(\"foo\", F.col(\"Date\").cast(\"date\")).agg(F.min(F.col(\"foo\")), F.max(F.col(\"foo\"))).show()"
   ]
  },
  {
   "cell_type": "code",
   "execution_count": 51,
   "metadata": {},
   "outputs": [],
   "source": [
    "df_vendas_dia = spark.read.parquet('adl://raizenprd01.azuredatalakestore.net/ldt_dev/sandbox/previsao_demanda/03_primary/vendas_dia')"
   ]
  },
  {
   "cell_type": "code",
   "execution_count": 53,
   "metadata": {},
   "outputs": [
    {
     "name": "stdout",
     "output_type": "stream",
     "text": [
      "+-------------------+----+--------+-------+-------+--------+\n",
      "|               Date|Base|     SKU|    IBM| Volume|Segmento|\n",
      "+-------------------+----+--------+-------+-------+--------+\n",
      "|2018-05-23 00:00:00|APVE|15521801|1004717|  300.0|       A|\n",
      "|2018-05-23 00:00:00|APVE|15521801|1010270| 1929.0|       A|\n",
      "|2018-05-23 00:00:00|ARBR|15521801|1010270|  324.0|       A|\n",
      "|2018-05-23 00:00:00|ARBR|15521801|1014172|19949.0|       A|\n",
      "|2018-05-23 00:00:00|AREC|15509801|1011068| 1000.0|       A|\n",
      "+-------------------+----+--------+-------+-------+--------+\n",
      "only showing top 5 rows\n",
      "\n"
     ]
    }
   ],
   "source": [
    "df_vendas_dia.show(5)"
   ]
  },
  {
   "cell_type": "code",
   "execution_count": 73,
   "metadata": {},
   "outputs": [
    {
     "name": "stdout",
     "output_type": "stream",
     "text": [
      "Collecting plotly.express\n",
      "  Using cached plotly_express-0.4.1-py2.py3-none-any.whl (2.9 kB)\n",
      "Collecting plotly>=4.1.0\n",
      "  Using cached plotly-4.6.0-py2.py3-none-any.whl (7.1 MB)\n",
      "Requirement already satisfied: pandas>=0.20.0 in /opt/conda/lib/python3.7/site-packages (from plotly.express) (1.0.2)\n",
      "Requirement already satisfied: patsy>=0.5 in /opt/conda/lib/python3.7/site-packages (from plotly.express) (0.5.1)\n",
      "Requirement already satisfied: scipy>=0.18 in /opt/conda/lib/python3.7/site-packages (from plotly.express) (1.4.1)\n",
      "Requirement already satisfied: numpy>=1.11 in /opt/conda/lib/python3.7/site-packages (from plotly.express) (1.18.1)\n",
      "Requirement already satisfied: statsmodels>=0.9.0 in /opt/conda/lib/python3.7/site-packages (from plotly.express) (0.11.1)\n",
      "Requirement already satisfied: six in /opt/conda/lib/python3.7/site-packages (from plotly>=4.1.0->plotly.express) (1.14.0)\n",
      "Processing /home/jovyan/.cache/pip/wheels/f9/8d/8d/f6af3f7f9eea3553bc2fe6d53e4b287dad18b06a861ac56ddf/retrying-1.3.3-py3-none-any.whl\n",
      "Requirement already satisfied: pytz>=2017.2 in /opt/conda/lib/python3.7/site-packages (from pandas>=0.20.0->plotly.express) (2019.3)\n",
      "Requirement already satisfied: python-dateutil>=2.6.1 in /opt/conda/lib/python3.7/site-packages (from pandas>=0.20.0->plotly.express) (2.8.1)\n",
      "Installing collected packages: retrying, plotly, plotly.express\n",
      "Successfully installed plotly-4.6.0 plotly.express retrying-1.3.3\n"
     ]
    }
   ],
   "source": [
    "!pip install plotly.express\n"
   ]
  },
  {
   "cell_type": "code",
   "execution_count": 72,
   "metadata": {},
   "outputs": [
    {
     "ename": "ModuleNotFoundError",
     "evalue": "No module named 'plotly'",
     "output_type": "error",
     "traceback": [
      "\u001b[0;31m---------------------------------------------------------------------------\u001b[0m",
      "\u001b[0;31mModuleNotFoundError\u001b[0m                       Traceback (most recent call last)",
      "\u001b[0;32m<ipython-input-72-794e76c3fd5f>\u001b[0m in \u001b[0;36m<module>\u001b[0;34m\u001b[0m\n\u001b[0;32m----> 1\u001b[0;31m \u001b[0;32mimport\u001b[0m \u001b[0mplotly\u001b[0m\u001b[0;34m.\u001b[0m\u001b[0mexpress\u001b[0m \u001b[0;32mas\u001b[0m \u001b[0mpx\u001b[0m\u001b[0;34m\u001b[0m\u001b[0;34m\u001b[0m\u001b[0m\n\u001b[0m\u001b[1;32m      2\u001b[0m \u001b[0;32mfrom\u001b[0m \u001b[0mpyspark\u001b[0m\u001b[0;34m.\u001b[0m\u001b[0msql\u001b[0m \u001b[0;32mimport\u001b[0m \u001b[0mfunctions\u001b[0m \u001b[0;32mas\u001b[0m \u001b[0mF\u001b[0m\u001b[0;34m\u001b[0m\u001b[0;34m\u001b[0m\u001b[0m\n",
      "\u001b[0;31mModuleNotFoundError\u001b[0m: No module named 'plotly'"
     ]
    }
   ],
   "source": [
    "import plotly.express as px\n",
    "from pyspark.sql import functions as F"
   ]
  },
  {
   "cell_type": "code",
   "execution_count": 26,
   "metadata": {},
   "outputs": [
    {
     "ename": "AnalysisException",
     "evalue": "\"cannot resolve '`Mes`' given input columns: [Segmento, IBM, Volume, Base, Date, SKU];;\\n'Aggregate ['Mes, 'Ano, 'Produto, Segmento#140], ['Mes, 'Ano, 'Produto, Segmento#140, sum(Volume#139) AS sum(Volume)#172]\\n+- Relation[Date#135,Base#136,SKU#137,IBM#138,Volume#139,Segmento#140] parquet\\n\"",
     "output_type": "error",
     "traceback": [
      "\u001b[0;31m---------------------------------------------------------------------------\u001b[0m",
      "\u001b[0;31mPy4JJavaError\u001b[0m                             Traceback (most recent call last)",
      "\u001b[0;32m/opt/spark/python/pyspark/sql/utils.py\u001b[0m in \u001b[0;36mdeco\u001b[0;34m(*a, **kw)\u001b[0m\n\u001b[1;32m     62\u001b[0m         \u001b[0;32mtry\u001b[0m\u001b[0;34m:\u001b[0m\u001b[0;34m\u001b[0m\u001b[0;34m\u001b[0m\u001b[0m\n\u001b[0;32m---> 63\u001b[0;31m             \u001b[0;32mreturn\u001b[0m \u001b[0mf\u001b[0m\u001b[0;34m(\u001b[0m\u001b[0;34m*\u001b[0m\u001b[0ma\u001b[0m\u001b[0;34m,\u001b[0m \u001b[0;34m**\u001b[0m\u001b[0mkw\u001b[0m\u001b[0;34m)\u001b[0m\u001b[0;34m\u001b[0m\u001b[0;34m\u001b[0m\u001b[0m\n\u001b[0m\u001b[1;32m     64\u001b[0m         \u001b[0;32mexcept\u001b[0m \u001b[0mpy4j\u001b[0m\u001b[0;34m.\u001b[0m\u001b[0mprotocol\u001b[0m\u001b[0;34m.\u001b[0m\u001b[0mPy4JJavaError\u001b[0m \u001b[0;32mas\u001b[0m \u001b[0me\u001b[0m\u001b[0;34m:\u001b[0m\u001b[0;34m\u001b[0m\u001b[0;34m\u001b[0m\u001b[0m\n",
      "\u001b[0;32m/opt/spark/python/lib/py4j-0.10.7-src.zip/py4j/protocol.py\u001b[0m in \u001b[0;36mget_return_value\u001b[0;34m(answer, gateway_client, target_id, name)\u001b[0m\n\u001b[1;32m    327\u001b[0m                     \u001b[0;34m\"An error occurred while calling {0}{1}{2}.\\n\"\u001b[0m\u001b[0;34m.\u001b[0m\u001b[0;34m\u001b[0m\u001b[0;34m\u001b[0m\u001b[0m\n\u001b[0;32m--> 328\u001b[0;31m                     format(target_id, \".\", name), value)\n\u001b[0m\u001b[1;32m    329\u001b[0m             \u001b[0;32melse\u001b[0m\u001b[0;34m:\u001b[0m\u001b[0;34m\u001b[0m\u001b[0;34m\u001b[0m\u001b[0m\n",
      "\u001b[0;31mPy4JJavaError\u001b[0m: An error occurred while calling o124.agg.\n: org.apache.spark.sql.AnalysisException: cannot resolve '`Mes`' given input columns: [Segmento, IBM, Volume, Base, Date, SKU];;\n'Aggregate ['Mes, 'Ano, 'Produto, Segmento#140], ['Mes, 'Ano, 'Produto, Segmento#140, sum(Volume#139) AS sum(Volume)#172]\n+- Relation[Date#135,Base#136,SKU#137,IBM#138,Volume#139,Segmento#140] parquet\n\n\tat org.apache.spark.sql.catalyst.analysis.package$AnalysisErrorAt.failAnalysis(package.scala:42)\n\tat org.apache.spark.sql.catalyst.analysis.CheckAnalysis$$anonfun$$nestedInanonfun$checkAnalysis$1$2.applyOrElse(CheckAnalysis.scala:110)\n\tat org.apache.spark.sql.catalyst.analysis.CheckAnalysis$$anonfun$$nestedInanonfun$checkAnalysis$1$2.applyOrElse(CheckAnalysis.scala:107)\n\tat org.apache.spark.sql.catalyst.trees.TreeNode.$anonfun$transformUp$2(TreeNode.scala:278)\n\tat org.apache.spark.sql.catalyst.trees.CurrentOrigin$.withOrigin(TreeNode.scala:70)\n\tat org.apache.spark.sql.catalyst.trees.TreeNode.transformUp(TreeNode.scala:278)\n\tat org.apache.spark.sql.catalyst.plans.QueryPlan.$anonfun$transformExpressionsUp$1(QueryPlan.scala:93)\n\tat org.apache.spark.sql.catalyst.plans.QueryPlan.$anonfun$mapExpressions$1(QueryPlan.scala:105)\n\tat org.apache.spark.sql.catalyst.trees.CurrentOrigin$.withOrigin(TreeNode.scala:70)\n\tat org.apache.spark.sql.catalyst.plans.QueryPlan.transformExpression$1(QueryPlan.scala:105)\n\tat org.apache.spark.sql.catalyst.plans.QueryPlan.recursiveTransform$1(QueryPlan.scala:116)\n\tat org.apache.spark.sql.catalyst.plans.QueryPlan.$anonfun$mapExpressions$3(QueryPlan.scala:121)\n\tat scala.collection.TraversableLike.$anonfun$map$1(TraversableLike.scala:237)\n\tat scala.collection.mutable.ResizableArray.foreach(ResizableArray.scala:62)\n\tat scala.collection.mutable.ResizableArray.foreach$(ResizableArray.scala:55)\n\tat scala.collection.mutable.ArrayBuffer.foreach(ArrayBuffer.scala:49)\n\tat scala.collection.TraversableLike.map(TraversableLike.scala:237)\n\tat scala.collection.TraversableLike.map$(TraversableLike.scala:230)\n\tat scala.collection.AbstractTraversable.map(Traversable.scala:108)\n\tat org.apache.spark.sql.catalyst.plans.QueryPlan.recursiveTransform$1(QueryPlan.scala:121)\n\tat org.apache.spark.sql.catalyst.plans.QueryPlan.$anonfun$mapExpressions$4(QueryPlan.scala:126)\n\tat org.apache.spark.sql.catalyst.trees.TreeNode.mapProductIterator(TreeNode.scala:187)\n\tat org.apache.spark.sql.catalyst.plans.QueryPlan.mapExpressions(QueryPlan.scala:126)\n\tat org.apache.spark.sql.catalyst.plans.QueryPlan.transformExpressionsUp(QueryPlan.scala:93)\n\tat org.apache.spark.sql.catalyst.analysis.CheckAnalysis.$anonfun$checkAnalysis$1(CheckAnalysis.scala:107)\n\tat org.apache.spark.sql.catalyst.analysis.CheckAnalysis.$anonfun$checkAnalysis$1$adapted(CheckAnalysis.scala:85)\n\tat org.apache.spark.sql.catalyst.trees.TreeNode.foreachUp(TreeNode.scala:127)\n\tat org.apache.spark.sql.catalyst.analysis.CheckAnalysis.checkAnalysis(CheckAnalysis.scala:85)\n\tat org.apache.spark.sql.catalyst.analysis.CheckAnalysis.checkAnalysis$(CheckAnalysis.scala:82)\n\tat org.apache.spark.sql.catalyst.analysis.Analyzer.checkAnalysis(Analyzer.scala:95)\n\tat org.apache.spark.sql.catalyst.analysis.Analyzer.$anonfun$executeAndCheck$1(Analyzer.scala:108)\n\tat org.apache.spark.sql.catalyst.plans.logical.AnalysisHelper$.markInAnalyzer(AnalysisHelper.scala:201)\n\tat org.apache.spark.sql.catalyst.analysis.Analyzer.executeAndCheck(Analyzer.scala:105)\n\tat org.apache.spark.sql.execution.QueryExecution.analyzed$lzycompute(QueryExecution.scala:57)\n\tat org.apache.spark.sql.execution.QueryExecution.analyzed(QueryExecution.scala:55)\n\tat org.apache.spark.sql.execution.QueryExecution.assertAnalyzed(QueryExecution.scala:47)\n\tat org.apache.spark.sql.Dataset$.ofRows(Dataset.scala:78)\n\tat org.apache.spark.sql.RelationalGroupedDataset.toDF(RelationalGroupedDataset.scala:65)\n\tat org.apache.spark.sql.RelationalGroupedDataset.agg(RelationalGroupedDataset.scala:169)\n\tat org.apache.spark.sql.RelationalGroupedDataset.agg(RelationalGroupedDataset.scala:188)\n\tat java.base/jdk.internal.reflect.NativeMethodAccessorImpl.invoke0(Native Method)\n\tat java.base/jdk.internal.reflect.NativeMethodAccessorImpl.invoke(NativeMethodAccessorImpl.java:62)\n\tat java.base/jdk.internal.reflect.DelegatingMethodAccessorImpl.invoke(DelegatingMethodAccessorImpl.java:43)\n\tat java.base/java.lang.reflect.Method.invoke(Method.java:566)\n\tat py4j.reflection.MethodInvoker.invoke(MethodInvoker.java:244)\n\tat py4j.reflection.ReflectionEngine.invoke(ReflectionEngine.java:357)\n\tat py4j.Gateway.invoke(Gateway.java:282)\n\tat py4j.commands.AbstractCommand.invokeMethod(AbstractCommand.java:132)\n\tat py4j.commands.CallCommand.execute(CallCommand.java:79)\n\tat py4j.GatewayConnection.run(GatewayConnection.java:238)\n\tat java.base/java.lang.Thread.run(Thread.java:834)\n",
      "\nDuring handling of the above exception, another exception occurred:\n",
      "\u001b[0;31mAnalysisException\u001b[0m                         Traceback (most recent call last)",
      "\u001b[0;32m<ipython-input-26-774fa22ca7b4>\u001b[0m in \u001b[0;36m<module>\u001b[0;34m\u001b[0m\n\u001b[0;32m----> 1\u001b[0;31m \u001b[0mvendas_dia_group\u001b[0m \u001b[0;34m=\u001b[0m \u001b[0mdf_vendas_dia\u001b[0m\u001b[0;34m.\u001b[0m\u001b[0mgroupBy\u001b[0m\u001b[0;34m(\u001b[0m\u001b[0;34m\"Mes\"\u001b[0m\u001b[0;34m,\u001b[0m\u001b[0;34m\"Ano\"\u001b[0m\u001b[0;34m,\u001b[0m\u001b[0;34m\"Produto\"\u001b[0m\u001b[0;34m,\u001b[0m\u001b[0;34m\"Segmento\"\u001b[0m\u001b[0;34m)\u001b[0m\u001b[0;34m.\u001b[0m\u001b[0magg\u001b[0m\u001b[0;34m(\u001b[0m\u001b[0;34m{\u001b[0m\u001b[0;34m\"Volume\"\u001b[0m\u001b[0;34m:\u001b[0m \u001b[0;34m\"sum\"\u001b[0m\u001b[0;34m}\u001b[0m\u001b[0;34m)\u001b[0m\u001b[0;34m\u001b[0m\u001b[0;34m\u001b[0m\u001b[0m\n\u001b[0m",
      "\u001b[0;32m/opt/spark/python/pyspark/sql/group.py\u001b[0m in \u001b[0;36magg\u001b[0;34m(self, *exprs)\u001b[0m\n\u001b[1;32m    108\u001b[0m         \u001b[0;32massert\u001b[0m \u001b[0mexprs\u001b[0m\u001b[0;34m,\u001b[0m \u001b[0;34m\"exprs should not be empty\"\u001b[0m\u001b[0;34m\u001b[0m\u001b[0;34m\u001b[0m\u001b[0m\n\u001b[1;32m    109\u001b[0m         \u001b[0;32mif\u001b[0m \u001b[0mlen\u001b[0m\u001b[0;34m(\u001b[0m\u001b[0mexprs\u001b[0m\u001b[0;34m)\u001b[0m \u001b[0;34m==\u001b[0m \u001b[0;36m1\u001b[0m \u001b[0;32mand\u001b[0m \u001b[0misinstance\u001b[0m\u001b[0;34m(\u001b[0m\u001b[0mexprs\u001b[0m\u001b[0;34m[\u001b[0m\u001b[0;36m0\u001b[0m\u001b[0;34m]\u001b[0m\u001b[0;34m,\u001b[0m \u001b[0mdict\u001b[0m\u001b[0;34m)\u001b[0m\u001b[0;34m:\u001b[0m\u001b[0;34m\u001b[0m\u001b[0;34m\u001b[0m\u001b[0m\n\u001b[0;32m--> 110\u001b[0;31m             \u001b[0mjdf\u001b[0m \u001b[0;34m=\u001b[0m \u001b[0mself\u001b[0m\u001b[0;34m.\u001b[0m\u001b[0m_jgd\u001b[0m\u001b[0;34m.\u001b[0m\u001b[0magg\u001b[0m\u001b[0;34m(\u001b[0m\u001b[0mexprs\u001b[0m\u001b[0;34m[\u001b[0m\u001b[0;36m0\u001b[0m\u001b[0;34m]\u001b[0m\u001b[0;34m)\u001b[0m\u001b[0;34m\u001b[0m\u001b[0;34m\u001b[0m\u001b[0m\n\u001b[0m\u001b[1;32m    111\u001b[0m         \u001b[0;32melse\u001b[0m\u001b[0;34m:\u001b[0m\u001b[0;34m\u001b[0m\u001b[0;34m\u001b[0m\u001b[0m\n\u001b[1;32m    112\u001b[0m             \u001b[0;31m# Columns\u001b[0m\u001b[0;34m\u001b[0m\u001b[0;34m\u001b[0m\u001b[0;34m\u001b[0m\u001b[0m\n",
      "\u001b[0;32m/opt/spark/python/lib/py4j-0.10.7-src.zip/py4j/java_gateway.py\u001b[0m in \u001b[0;36m__call__\u001b[0;34m(self, *args)\u001b[0m\n\u001b[1;32m   1255\u001b[0m         \u001b[0manswer\u001b[0m \u001b[0;34m=\u001b[0m \u001b[0mself\u001b[0m\u001b[0;34m.\u001b[0m\u001b[0mgateway_client\u001b[0m\u001b[0;34m.\u001b[0m\u001b[0msend_command\u001b[0m\u001b[0;34m(\u001b[0m\u001b[0mcommand\u001b[0m\u001b[0;34m)\u001b[0m\u001b[0;34m\u001b[0m\u001b[0;34m\u001b[0m\u001b[0m\n\u001b[1;32m   1256\u001b[0m         return_value = get_return_value(\n\u001b[0;32m-> 1257\u001b[0;31m             answer, self.gateway_client, self.target_id, self.name)\n\u001b[0m\u001b[1;32m   1258\u001b[0m \u001b[0;34m\u001b[0m\u001b[0m\n\u001b[1;32m   1259\u001b[0m         \u001b[0;32mfor\u001b[0m \u001b[0mtemp_arg\u001b[0m \u001b[0;32min\u001b[0m \u001b[0mtemp_args\u001b[0m\u001b[0;34m:\u001b[0m\u001b[0;34m\u001b[0m\u001b[0;34m\u001b[0m\u001b[0m\n",
      "\u001b[0;32m/opt/spark/python/pyspark/sql/utils.py\u001b[0m in \u001b[0;36mdeco\u001b[0;34m(*a, **kw)\u001b[0m\n\u001b[1;32m     67\u001b[0m                                              e.java_exception.getStackTrace()))\n\u001b[1;32m     68\u001b[0m             \u001b[0;32mif\u001b[0m \u001b[0ms\u001b[0m\u001b[0;34m.\u001b[0m\u001b[0mstartswith\u001b[0m\u001b[0;34m(\u001b[0m\u001b[0;34m'org.apache.spark.sql.AnalysisException: '\u001b[0m\u001b[0;34m)\u001b[0m\u001b[0;34m:\u001b[0m\u001b[0;34m\u001b[0m\u001b[0;34m\u001b[0m\u001b[0m\n\u001b[0;32m---> 69\u001b[0;31m                 \u001b[0;32mraise\u001b[0m \u001b[0mAnalysisException\u001b[0m\u001b[0;34m(\u001b[0m\u001b[0ms\u001b[0m\u001b[0;34m.\u001b[0m\u001b[0msplit\u001b[0m\u001b[0;34m(\u001b[0m\u001b[0;34m': '\u001b[0m\u001b[0;34m,\u001b[0m \u001b[0;36m1\u001b[0m\u001b[0;34m)\u001b[0m\u001b[0;34m[\u001b[0m\u001b[0;36m1\u001b[0m\u001b[0;34m]\u001b[0m\u001b[0;34m,\u001b[0m \u001b[0mstackTrace\u001b[0m\u001b[0;34m)\u001b[0m\u001b[0;34m\u001b[0m\u001b[0;34m\u001b[0m\u001b[0m\n\u001b[0m\u001b[1;32m     70\u001b[0m             \u001b[0;32mif\u001b[0m \u001b[0ms\u001b[0m\u001b[0;34m.\u001b[0m\u001b[0mstartswith\u001b[0m\u001b[0;34m(\u001b[0m\u001b[0;34m'org.apache.spark.sql.catalyst.analysis'\u001b[0m\u001b[0;34m)\u001b[0m\u001b[0;34m:\u001b[0m\u001b[0;34m\u001b[0m\u001b[0;34m\u001b[0m\u001b[0m\n\u001b[1;32m     71\u001b[0m                 \u001b[0;32mraise\u001b[0m \u001b[0mAnalysisException\u001b[0m\u001b[0;34m(\u001b[0m\u001b[0ms\u001b[0m\u001b[0;34m.\u001b[0m\u001b[0msplit\u001b[0m\u001b[0;34m(\u001b[0m\u001b[0;34m': '\u001b[0m\u001b[0;34m,\u001b[0m \u001b[0;36m1\u001b[0m\u001b[0;34m)\u001b[0m\u001b[0;34m[\u001b[0m\u001b[0;36m1\u001b[0m\u001b[0;34m]\u001b[0m\u001b[0;34m,\u001b[0m \u001b[0mstackTrace\u001b[0m\u001b[0;34m)\u001b[0m\u001b[0;34m\u001b[0m\u001b[0;34m\u001b[0m\u001b[0m\n",
      "\u001b[0;31mAnalysisException\u001b[0m: \"cannot resolve '`Mes`' given input columns: [Segmento, IBM, Volume, Base, Date, SKU];;\\n'Aggregate ['Mes, 'Ano, 'Produto, Segmento#140], ['Mes, 'Ano, 'Produto, Segmento#140, sum(Volume#139) AS sum(Volume)#172]\\n+- Relation[Date#135,Base#136,SKU#137,IBM#138,Volume#139,Segmento#140] parquet\\n\""
     ]
    }
   ],
   "source": [
    "vendas_dia_group = df_vendas_dia.groupBy(\"Mes\",\"Ano\",\"Produto\",\"Segmento\").agg({\"Volume\": \"sum\"})"
   ]
  },
  {
   "cell_type": "code",
   "execution_count": 27,
   "metadata": {},
   "outputs": [
    {
     "ename": "NameError",
     "evalue": "name 'vendas_dia_group' is not defined",
     "output_type": "error",
     "traceback": [
      "\u001b[0;31m---------------------------------------------------------------------------\u001b[0m",
      "\u001b[0;31mNameError\u001b[0m                                 Traceback (most recent call last)",
      "\u001b[0;32m<ipython-input-27-971fe564ff0a>\u001b[0m in \u001b[0;36m<module>\u001b[0;34m\u001b[0m\n\u001b[0;32m----> 1\u001b[0;31m \u001b[0mvendas_dia_group\u001b[0m\u001b[0;34m.\u001b[0m\u001b[0mshow\u001b[0m\u001b[0;34m(\u001b[0m\u001b[0;34m)\u001b[0m\u001b[0;34m\u001b[0m\u001b[0;34m\u001b[0m\u001b[0m\n\u001b[0m",
      "\u001b[0;31mNameError\u001b[0m: name 'vendas_dia_group' is not defined"
     ]
    }
   ],
   "source": [
    "vendas_dia_group.show()"
   ]
  },
  {
   "cell_type": "code",
   "execution_count": 45,
   "metadata": {},
   "outputs": [],
   "source": [
    "v_dia_group_pd = vendas_dia_group.orderBy(\"Date\").toPandas()"
   ]
  },
  {
   "cell_type": "code",
   "execution_count": null,
   "metadata": {},
   "outputs": [],
   "source": []
  },
  {
   "cell_type": "code",
   "execution_count": 46,
   "metadata": {},
   "outputs": [
    {
     "ename": "ValueError",
     "evalue": "All arguments should have the same length. The length of argument `y` is 2, whereas the length of previous arguments ['Date'] is 3225",
     "output_type": "error",
     "traceback": [
      "\u001b[0;31m---------------------------------------------------------------------------\u001b[0m",
      "\u001b[0;31mValueError\u001b[0m                                Traceback (most recent call last)",
      "\u001b[0;32m<ipython-input-46-acd324dcd0ec>\u001b[0m in \u001b[0;36m<module>\u001b[0;34m\u001b[0m\n\u001b[0;32m----> 1\u001b[0;31m \u001b[0mpx\u001b[0m\u001b[0;34m.\u001b[0m\u001b[0mline\u001b[0m\u001b[0;34m(\u001b[0m\u001b[0mv_dia_group_pd\u001b[0m\u001b[0;34m,\u001b[0m \u001b[0mx\u001b[0m\u001b[0;34m=\u001b[0m\u001b[0;34m\"Date\"\u001b[0m\u001b[0;34m,\u001b[0m \u001b[0my\u001b[0m\u001b[0;34m=\u001b[0m\u001b[0;34m[\u001b[0m\u001b[0;34m\"meio\"\u001b[0m\u001b[0;34m,\u001b[0m \u001b[0;34m\"sum(Volume)\"\u001b[0m\u001b[0;34m]\u001b[0m\u001b[0;34m)\u001b[0m\u001b[0;34m\u001b[0m\u001b[0;34m\u001b[0m\u001b[0m\n\u001b[0m",
      "\u001b[0;32m/opt/conda/lib/python3.7/site-packages/plotly/express/_chart_types.py\u001b[0m in \u001b[0;36mline\u001b[0;34m(data_frame, x, y, line_group, color, line_dash, hover_name, hover_data, custom_data, text, facet_row, facet_col, facet_col_wrap, error_x, error_x_minus, error_y, error_y_minus, animation_frame, animation_group, category_orders, labels, color_discrete_sequence, color_discrete_map, line_dash_sequence, line_dash_map, log_x, log_y, range_x, range_y, line_shape, render_mode, title, template, width, height)\u001b[0m\n\u001b[1;32m    212\u001b[0m     \u001b[0ma\u001b[0m \u001b[0mpolyline\u001b[0m \u001b[0mmark\u001b[0m \u001b[0;32min\u001b[0m \u001b[0;36m2\u001b[0m\u001b[0mD\u001b[0m \u001b[0mspace\u001b[0m\u001b[0;34m.\u001b[0m\u001b[0;34m\u001b[0m\u001b[0;34m\u001b[0m\u001b[0m\n\u001b[1;32m    213\u001b[0m     \"\"\"\n\u001b[0;32m--> 214\u001b[0;31m     \u001b[0;32mreturn\u001b[0m \u001b[0mmake_figure\u001b[0m\u001b[0;34m(\u001b[0m\u001b[0margs\u001b[0m\u001b[0;34m=\u001b[0m\u001b[0mlocals\u001b[0m\u001b[0;34m(\u001b[0m\u001b[0;34m)\u001b[0m\u001b[0;34m,\u001b[0m \u001b[0mconstructor\u001b[0m\u001b[0;34m=\u001b[0m\u001b[0mgo\u001b[0m\u001b[0;34m.\u001b[0m\u001b[0mScatter\u001b[0m\u001b[0;34m)\u001b[0m\u001b[0;34m\u001b[0m\u001b[0;34m\u001b[0m\u001b[0m\n\u001b[0m\u001b[1;32m    215\u001b[0m \u001b[0;34m\u001b[0m\u001b[0m\n\u001b[1;32m    216\u001b[0m \u001b[0;34m\u001b[0m\u001b[0m\n",
      "\u001b[0;32m/opt/conda/lib/python3.7/site-packages/plotly/express/_core.py\u001b[0m in \u001b[0;36mmake_figure\u001b[0;34m(args, constructor, trace_patch, layout_patch)\u001b[0m\n\u001b[1;32m   1366\u001b[0m \u001b[0;34m\u001b[0m\u001b[0m\n\u001b[1;32m   1367\u001b[0m     args, trace_specs, grouped_mappings, sizeref, show_colorbar = infer_config(\n\u001b[0;32m-> 1368\u001b[0;31m         \u001b[0margs\u001b[0m\u001b[0;34m,\u001b[0m \u001b[0mconstructor\u001b[0m\u001b[0;34m,\u001b[0m \u001b[0mtrace_patch\u001b[0m\u001b[0;34m\u001b[0m\u001b[0;34m\u001b[0m\u001b[0m\n\u001b[0m\u001b[1;32m   1369\u001b[0m     )\n\u001b[1;32m   1370\u001b[0m     \u001b[0mgrouper\u001b[0m \u001b[0;34m=\u001b[0m \u001b[0;34m[\u001b[0m\u001b[0mx\u001b[0m\u001b[0;34m.\u001b[0m\u001b[0mgrouper\u001b[0m \u001b[0;32mor\u001b[0m \u001b[0mone_group\u001b[0m \u001b[0;32mfor\u001b[0m \u001b[0mx\u001b[0m \u001b[0;32min\u001b[0m \u001b[0mgrouped_mappings\u001b[0m\u001b[0;34m]\u001b[0m \u001b[0;32mor\u001b[0m \u001b[0;34m[\u001b[0m\u001b[0mone_group\u001b[0m\u001b[0;34m]\u001b[0m\u001b[0;34m\u001b[0m\u001b[0;34m\u001b[0m\u001b[0m\n",
      "\u001b[0;32m/opt/conda/lib/python3.7/site-packages/plotly/express/_core.py\u001b[0m in \u001b[0;36minfer_config\u001b[0;34m(args, constructor, trace_patch)\u001b[0m\n\u001b[1;32m   1209\u001b[0m             \u001b[0mall_attrables\u001b[0m \u001b[0;34m+=\u001b[0m \u001b[0;34m[\u001b[0m\u001b[0mgroup_attr\u001b[0m\u001b[0;34m]\u001b[0m\u001b[0;34m\u001b[0m\u001b[0;34m\u001b[0m\u001b[0m\n\u001b[1;32m   1210\u001b[0m \u001b[0;34m\u001b[0m\u001b[0m\n\u001b[0;32m-> 1211\u001b[0;31m     \u001b[0margs\u001b[0m \u001b[0;34m=\u001b[0m \u001b[0mbuild_dataframe\u001b[0m\u001b[0;34m(\u001b[0m\u001b[0margs\u001b[0m\u001b[0;34m,\u001b[0m \u001b[0mall_attrables\u001b[0m\u001b[0;34m,\u001b[0m \u001b[0marray_attrables\u001b[0m\u001b[0;34m)\u001b[0m\u001b[0;34m\u001b[0m\u001b[0;34m\u001b[0m\u001b[0m\n\u001b[0m\u001b[1;32m   1212\u001b[0m     \u001b[0;32mif\u001b[0m \u001b[0mconstructor\u001b[0m \u001b[0;32min\u001b[0m \u001b[0;34m[\u001b[0m\u001b[0mgo\u001b[0m\u001b[0;34m.\u001b[0m\u001b[0mTreemap\u001b[0m\u001b[0;34m,\u001b[0m \u001b[0mgo\u001b[0m\u001b[0;34m.\u001b[0m\u001b[0mSunburst\u001b[0m\u001b[0;34m]\u001b[0m \u001b[0;32mand\u001b[0m \u001b[0margs\u001b[0m\u001b[0;34m[\u001b[0m\u001b[0;34m\"path\"\u001b[0m\u001b[0;34m]\u001b[0m \u001b[0;32mis\u001b[0m \u001b[0;32mnot\u001b[0m \u001b[0;32mNone\u001b[0m\u001b[0;34m:\u001b[0m\u001b[0;34m\u001b[0m\u001b[0;34m\u001b[0m\u001b[0m\n\u001b[1;32m   1213\u001b[0m         \u001b[0margs\u001b[0m \u001b[0;34m=\u001b[0m \u001b[0mprocess_dataframe_hierarchy\u001b[0m\u001b[0;34m(\u001b[0m\u001b[0margs\u001b[0m\u001b[0;34m)\u001b[0m\u001b[0;34m\u001b[0m\u001b[0;34m\u001b[0m\u001b[0m\n",
      "\u001b[0;32m/opt/conda/lib/python3.7/site-packages/plotly/express/_core.py\u001b[0m in \u001b[0;36mbuild_dataframe\u001b[0;34m(args, attrables, array_attrables)\u001b[0m\n\u001b[1;32m   1020\u001b[0m                         \u001b[0;34m\"The length of argument `%s` is %d, whereas the \"\u001b[0m\u001b[0;34m\u001b[0m\u001b[0;34m\u001b[0m\u001b[0m\n\u001b[1;32m   1021\u001b[0m                         \u001b[0;34m\"length of previous arguments %s is %d\"\u001b[0m\u001b[0;34m\u001b[0m\u001b[0;34m\u001b[0m\u001b[0m\n\u001b[0;32m-> 1022\u001b[0;31m                         \u001b[0;34m%\u001b[0m \u001b[0;34m(\u001b[0m\u001b[0mfield\u001b[0m\u001b[0;34m,\u001b[0m \u001b[0mlen\u001b[0m\u001b[0;34m(\u001b[0m\u001b[0margument\u001b[0m\u001b[0;34m)\u001b[0m\u001b[0;34m,\u001b[0m \u001b[0mstr\u001b[0m\u001b[0;34m(\u001b[0m\u001b[0mlist\u001b[0m\u001b[0;34m(\u001b[0m\u001b[0mdf_output\u001b[0m\u001b[0;34m.\u001b[0m\u001b[0mcolumns\u001b[0m\u001b[0;34m)\u001b[0m\u001b[0;34m)\u001b[0m\u001b[0;34m,\u001b[0m \u001b[0mlength\u001b[0m\u001b[0;34m)\u001b[0m\u001b[0;34m\u001b[0m\u001b[0;34m\u001b[0m\u001b[0m\n\u001b[0m\u001b[1;32m   1023\u001b[0m                     )\n\u001b[1;32m   1024\u001b[0m                 \u001b[0;32mif\u001b[0m \u001b[0mhasattr\u001b[0m\u001b[0;34m(\u001b[0m\u001b[0margument\u001b[0m\u001b[0;34m,\u001b[0m \u001b[0;34m\"values\"\u001b[0m\u001b[0;34m)\u001b[0m\u001b[0;34m:\u001b[0m\u001b[0;34m\u001b[0m\u001b[0;34m\u001b[0m\u001b[0m\n",
      "\u001b[0;31mValueError\u001b[0m: All arguments should have the same length. The length of argument `y` is 2, whereas the length of previous arguments ['Date'] is 3225"
     ]
    }
   ],
   "source": [
    "px.line(v_dia_group_pd, x=\"Date\", y=[\"meio\", \"sum(Volume)\"])"
   ]
  },
  {
   "cell_type": "code",
   "execution_count": null,
   "metadata": {},
   "outputs": [],
   "source": []
  }
 ],
 "metadata": {
  "kernelspec": {
   "display_name": "Python 3",
   "language": "python",
   "name": "python3"
  },
  "language_info": {
   "codemirror_mode": {
    "name": "ipython",
    "version": 3
   },
   "file_extension": ".py",
   "mimetype": "text/x-python",
   "name": "python",
   "nbconvert_exporter": "python",
   "pygments_lexer": "ipython3",
   "version": "3.7.6"
  }
 },
 "nbformat": 4,
 "nbformat_minor": 4
}
